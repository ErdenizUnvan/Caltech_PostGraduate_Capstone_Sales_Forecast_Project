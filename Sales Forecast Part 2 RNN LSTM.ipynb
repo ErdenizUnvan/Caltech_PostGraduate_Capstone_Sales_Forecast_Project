{
 "cells": [
  {
   "cell_type": "code",
   "execution_count": 1,
   "id": "d4b499ad",
   "metadata": {
    "id": "d4b499ad"
   },
   "outputs": [],
   "source": [
    "import pandas as pd\n",
    "import numpy as np\n",
    "from sklearn.model_selection import train_test_split\n",
    "import matplotlib.pyplot as plt\n"
   ]
  },
  {
   "cell_type": "code",
   "execution_count": 2,
   "id": "63743663",
   "metadata": {
    "colab": {
     "base_uri": "https://localhost:8080/"
    },
    "id": "63743663",
    "outputId": "40d19975-c827-49b9-af00-585f64d9ecbe"
   },
   "outputs": [],
   "source": [
    "# Load the datasets\n",
    "restaurants_path = 'resturants.csv'\n",
    "sales_path = 'sales.csv'\n",
    "items_path = 'items.csv'\n",
    "\n",
    "restaurants_data = pd.read_csv(restaurants_path)\n",
    "sales_data = pd.read_csv(sales_path)\n",
    "items_data = pd.read_csv(items_path)\n"
   ]
  },
  {
   "cell_type": "code",
   "execution_count": 3,
   "id": "62f320fd",
   "metadata": {
    "colab": {
     "base_uri": "https://localhost:8080/"
    },
    "id": "62f320fd",
    "outputId": "f43079f7-e55f-42e1-92bf-1d9d743daa66"
   },
   "outputs": [
    {
     "name": "stdout",
     "output_type": "stream",
     "text": [
      "\n",
      "Final Merged Dataset:\n",
      "Shape: (109600, 8)\n"
     ]
    }
   ],
   "source": [
    "# Merge the datasets\n",
    "merged_data = sales_data.merge(items_data, left_on='item_id', right_on='id', suffixes=('_sales', '_item'))\n",
    "final_data = merged_data.merge(restaurants_data, left_on='store_id', right_on='id', suffixes=('_item', '_store'))\n",
    "final_data = final_data[['date', 'item_id', 'price', 'item_count', 'name_item', 'kcal', 'store_id', 'name_store']]\n",
    "final_data.columns = ['date', 'item_id', 'price', 'item_count', 'item_name', 'kcal', 'store_id', 'store_name']\n",
    "\n",
    "# Ensure 'date' is in datetime format, handling errors\n",
    "final_data['date'] = pd.to_datetime(final_data['date'], errors='coerce')\n",
    "\n",
    "# Drop rows with invalid dates\n",
    "final_data = final_data.dropna(subset=['date'])\n",
    "\n",
    "\n",
    "# Display the merged dataset structure and sample rows\n",
    "print(\"\\nFinal Merged Dataset:\")\n",
    "print(f\"Shape: {final_data.shape}\")\n"
   ]
  },
  {
   "cell_type": "raw",
   "id": "2cf1ee35",
   "metadata": {
    "id": "2cf1ee35"
   },
   "source": [
    "Forecasting using deep learning algorithms:\n",
    "a.   Use sales amount for predictions instead of item count\n",
    "b.  Build a long short-term memory (LSTM) model for predictions\n",
    "•              Define the train and test series\n",
    "•              Generate synthetic data for the last 12 months\n",
    "•              Build and train an LSTM model\n",
    "•              Use the model to make predictions for the test data\n",
    "c.   Calculate the mean absolute percentage error (MAPE) and comment on the model's performance\n"
   ]
  },
  {
   "cell_type": "code",
   "execution_count": 4,
   "id": "8a91beb5",
   "metadata": {
    "id": "8a91beb5"
   },
   "outputs": [],
   "source": [
    "from sklearn.metrics import mean_squared_error, mean_absolute_percentage_error\n",
    "from tensorflow.keras.models import Sequential\n",
    "from tensorflow.keras.layers import Dense, LSTM, Dropout\n",
    "from tensorflow.keras.optimizers import Adam\n"
   ]
  },
  {
   "cell_type": "code",
   "execution_count": 5,
   "id": "c7ac426b",
   "metadata": {
    "colab": {
     "base_uri": "https://localhost:8080/",
     "height": 597
    },
    "id": "c7ac426b",
    "outputId": "7a30e3d8-9ff2-4494-b47e-7426c5b6ceae"
   },
   "outputs": [
    {
     "data": {
      "text/html": [
       "<div>\n",
       "<style scoped>\n",
       "    .dataframe tbody tr th:only-of-type {\n",
       "        vertical-align: middle;\n",
       "    }\n",
       "\n",
       "    .dataframe tbody tr th {\n",
       "        vertical-align: top;\n",
       "    }\n",
       "\n",
       "    .dataframe thead th {\n",
       "        text-align: right;\n",
       "    }\n",
       "</style>\n",
       "<table border=\"1\" class=\"dataframe\">\n",
       "  <thead>\n",
       "    <tr style=\"text-align: right;\">\n",
       "      <th></th>\n",
       "      <th>date</th>\n",
       "      <th>item_id</th>\n",
       "      <th>price</th>\n",
       "      <th>item_count</th>\n",
       "      <th>item_name</th>\n",
       "      <th>kcal</th>\n",
       "      <th>store_id</th>\n",
       "      <th>store_name</th>\n",
       "    </tr>\n",
       "  </thead>\n",
       "  <tbody>\n",
       "    <tr>\n",
       "      <th>0</th>\n",
       "      <td>2019-01-01</td>\n",
       "      <td>3</td>\n",
       "      <td>29.22</td>\n",
       "      <td>2.0</td>\n",
       "      <td>Sweet Fruity Cake</td>\n",
       "      <td>931</td>\n",
       "      <td>1</td>\n",
       "      <td>Bob's Diner</td>\n",
       "    </tr>\n",
       "    <tr>\n",
       "      <th>1</th>\n",
       "      <td>2019-01-02</td>\n",
       "      <td>3</td>\n",
       "      <td>29.22</td>\n",
       "      <td>0.0</td>\n",
       "      <td>Sweet Fruity Cake</td>\n",
       "      <td>931</td>\n",
       "      <td>1</td>\n",
       "      <td>Bob's Diner</td>\n",
       "    </tr>\n",
       "    <tr>\n",
       "      <th>2</th>\n",
       "      <td>2019-01-03</td>\n",
       "      <td>3</td>\n",
       "      <td>29.22</td>\n",
       "      <td>0.0</td>\n",
       "      <td>Sweet Fruity Cake</td>\n",
       "      <td>931</td>\n",
       "      <td>1</td>\n",
       "      <td>Bob's Diner</td>\n",
       "    </tr>\n",
       "    <tr>\n",
       "      <th>3</th>\n",
       "      <td>2019-01-04</td>\n",
       "      <td>3</td>\n",
       "      <td>29.22</td>\n",
       "      <td>6.0</td>\n",
       "      <td>Sweet Fruity Cake</td>\n",
       "      <td>931</td>\n",
       "      <td>1</td>\n",
       "      <td>Bob's Diner</td>\n",
       "    </tr>\n",
       "    <tr>\n",
       "      <th>4</th>\n",
       "      <td>2019-01-05</td>\n",
       "      <td>3</td>\n",
       "      <td>29.22</td>\n",
       "      <td>4.0</td>\n",
       "      <td>Sweet Fruity Cake</td>\n",
       "      <td>931</td>\n",
       "      <td>1</td>\n",
       "      <td>Bob's Diner</td>\n",
       "    </tr>\n",
       "    <tr>\n",
       "      <th>...</th>\n",
       "      <td>...</td>\n",
       "      <td>...</td>\n",
       "      <td>...</td>\n",
       "      <td>...</td>\n",
       "      <td>...</td>\n",
       "      <td>...</td>\n",
       "      <td>...</td>\n",
       "      <td>...</td>\n",
       "    </tr>\n",
       "    <tr>\n",
       "      <th>109595</th>\n",
       "      <td>2021-12-27</td>\n",
       "      <td>86</td>\n",
       "      <td>6.50</td>\n",
       "      <td>0.0</td>\n",
       "      <td>Original Milky Cake</td>\n",
       "      <td>595</td>\n",
       "      <td>3</td>\n",
       "      <td>Sweet Shack</td>\n",
       "    </tr>\n",
       "    <tr>\n",
       "      <th>109596</th>\n",
       "      <td>2021-12-28</td>\n",
       "      <td>86</td>\n",
       "      <td>6.50</td>\n",
       "      <td>0.0</td>\n",
       "      <td>Original Milky Cake</td>\n",
       "      <td>595</td>\n",
       "      <td>3</td>\n",
       "      <td>Sweet Shack</td>\n",
       "    </tr>\n",
       "    <tr>\n",
       "      <th>109597</th>\n",
       "      <td>2021-12-29</td>\n",
       "      <td>86</td>\n",
       "      <td>6.50</td>\n",
       "      <td>0.0</td>\n",
       "      <td>Original Milky Cake</td>\n",
       "      <td>595</td>\n",
       "      <td>3</td>\n",
       "      <td>Sweet Shack</td>\n",
       "    </tr>\n",
       "    <tr>\n",
       "      <th>109598</th>\n",
       "      <td>2021-12-30</td>\n",
       "      <td>86</td>\n",
       "      <td>6.50</td>\n",
       "      <td>0.0</td>\n",
       "      <td>Original Milky Cake</td>\n",
       "      <td>595</td>\n",
       "      <td>3</td>\n",
       "      <td>Sweet Shack</td>\n",
       "    </tr>\n",
       "    <tr>\n",
       "      <th>109599</th>\n",
       "      <td>2021-12-31</td>\n",
       "      <td>86</td>\n",
       "      <td>6.50</td>\n",
       "      <td>0.0</td>\n",
       "      <td>Original Milky Cake</td>\n",
       "      <td>595</td>\n",
       "      <td>3</td>\n",
       "      <td>Sweet Shack</td>\n",
       "    </tr>\n",
       "  </tbody>\n",
       "</table>\n",
       "<p>109600 rows × 8 columns</p>\n",
       "</div>"
      ],
      "text/plain": [
       "             date  item_id  price  item_count            item_name  kcal  \\\n",
       "0      2019-01-01        3  29.22         2.0    Sweet Fruity Cake   931   \n",
       "1      2019-01-02        3  29.22         0.0    Sweet Fruity Cake   931   \n",
       "2      2019-01-03        3  29.22         0.0    Sweet Fruity Cake   931   \n",
       "3      2019-01-04        3  29.22         6.0    Sweet Fruity Cake   931   \n",
       "4      2019-01-05        3  29.22         4.0    Sweet Fruity Cake   931   \n",
       "...           ...      ...    ...         ...                  ...   ...   \n",
       "109595 2021-12-27       86   6.50         0.0  Original Milky Cake   595   \n",
       "109596 2021-12-28       86   6.50         0.0  Original Milky Cake   595   \n",
       "109597 2021-12-29       86   6.50         0.0  Original Milky Cake   595   \n",
       "109598 2021-12-30       86   6.50         0.0  Original Milky Cake   595   \n",
       "109599 2021-12-31       86   6.50         0.0  Original Milky Cake   595   \n",
       "\n",
       "        store_id   store_name  \n",
       "0              1  Bob's Diner  \n",
       "1              1  Bob's Diner  \n",
       "2              1  Bob's Diner  \n",
       "3              1  Bob's Diner  \n",
       "4              1  Bob's Diner  \n",
       "...          ...          ...  \n",
       "109595         3  Sweet Shack  \n",
       "109596         3  Sweet Shack  \n",
       "109597         3  Sweet Shack  \n",
       "109598         3  Sweet Shack  \n",
       "109599         3  Sweet Shack  \n",
       "\n",
       "[109600 rows x 8 columns]"
      ]
     },
     "execution_count": 5,
     "metadata": {},
     "output_type": "execute_result"
    }
   ],
   "source": [
    "final_data\n"
   ]
  },
  {
   "cell_type": "code",
   "execution_count": 6,
   "id": "52c34d9c",
   "metadata": {
    "colab": {
     "base_uri": "https://localhost:8080/",
     "height": 458
    },
    "id": "52c34d9c",
    "outputId": "c364fe9c-8f93-4c61-8b75-613577879602"
   },
   "outputs": [
    {
     "data": {
      "text/plain": [
       "0        2019-01-01\n",
       "1        2019-01-02\n",
       "2        2019-01-03\n",
       "3        2019-01-04\n",
       "4        2019-01-05\n",
       "            ...    \n",
       "109595   2021-12-27\n",
       "109596   2021-12-28\n",
       "109597   2021-12-29\n",
       "109598   2021-12-30\n",
       "109599   2021-12-31\n",
       "Name: date, Length: 109600, dtype: datetime64[ns]"
      ]
     },
     "execution_count": 6,
     "metadata": {},
     "output_type": "execute_result"
    }
   ],
   "source": [
    "final_data['date']\n"
   ]
  },
  {
   "cell_type": "code",
   "execution_count": 7,
   "id": "928933b2",
   "metadata": {
    "colab": {
     "base_uri": "https://localhost:8080/",
     "height": 489
    },
    "id": "928933b2",
    "outputId": "c224db1e-b489-4191-9dbc-7b7b54659dc3"
   },
   "outputs": [
    {
     "data": {
      "text/plain": [
       "date\n",
       "2019-01-01    100\n",
       "2020-12-29    100\n",
       "2021-01-04    100\n",
       "2021-01-03    100\n",
       "2021-01-02    100\n",
       "             ... \n",
       "2020-01-07    100\n",
       "2020-01-08    100\n",
       "2020-01-09    100\n",
       "2020-01-10    100\n",
       "2021-12-31    100\n",
       "Name: count, Length: 1096, dtype: int64"
      ]
     },
     "execution_count": 7,
     "metadata": {},
     "output_type": "execute_result"
    }
   ],
   "source": [
    "final_data['date'].value_counts()\n"
   ]
  },
  {
   "cell_type": "code",
   "execution_count": 8,
   "id": "46ebef03",
   "metadata": {
    "colab": {
     "base_uri": "https://localhost:8080/",
     "height": 597
    },
    "id": "46ebef03",
    "outputId": "137657d8-996b-41cb-a66c-812d58a2849c"
   },
   "outputs": [
    {
     "data": {
      "text/html": [
       "<div>\n",
       "<style scoped>\n",
       "    .dataframe tbody tr th:only-of-type {\n",
       "        vertical-align: middle;\n",
       "    }\n",
       "\n",
       "    .dataframe tbody tr th {\n",
       "        vertical-align: top;\n",
       "    }\n",
       "\n",
       "    .dataframe thead th {\n",
       "        text-align: right;\n",
       "    }\n",
       "</style>\n",
       "<table border=\"1\" class=\"dataframe\">\n",
       "  <thead>\n",
       "    <tr style=\"text-align: right;\">\n",
       "      <th></th>\n",
       "      <th>date</th>\n",
       "      <th>item_id</th>\n",
       "      <th>price</th>\n",
       "      <th>item_count</th>\n",
       "      <th>item_name</th>\n",
       "      <th>kcal</th>\n",
       "      <th>store_id</th>\n",
       "      <th>store_name</th>\n",
       "    </tr>\n",
       "  </thead>\n",
       "  <tbody>\n",
       "    <tr>\n",
       "      <th>0</th>\n",
       "      <td>2019-01-01</td>\n",
       "      <td>3</td>\n",
       "      <td>29.22</td>\n",
       "      <td>2.0</td>\n",
       "      <td>Sweet Fruity Cake</td>\n",
       "      <td>931</td>\n",
       "      <td>1</td>\n",
       "      <td>Bob's Diner</td>\n",
       "    </tr>\n",
       "    <tr>\n",
       "      <th>1096</th>\n",
       "      <td>2019-01-01</td>\n",
       "      <td>4</td>\n",
       "      <td>26.42</td>\n",
       "      <td>22.0</td>\n",
       "      <td>Amazing Steak Dinner with Rolls</td>\n",
       "      <td>763</td>\n",
       "      <td>1</td>\n",
       "      <td>Bob's Diner</td>\n",
       "    </tr>\n",
       "    <tr>\n",
       "      <th>2192</th>\n",
       "      <td>2019-01-01</td>\n",
       "      <td>12</td>\n",
       "      <td>4.87</td>\n",
       "      <td>7.0</td>\n",
       "      <td>Fantastic Sweet Cola</td>\n",
       "      <td>478</td>\n",
       "      <td>1</td>\n",
       "      <td>Bob's Diner</td>\n",
       "    </tr>\n",
       "    <tr>\n",
       "      <th>3288</th>\n",
       "      <td>2019-01-01</td>\n",
       "      <td>13</td>\n",
       "      <td>4.18</td>\n",
       "      <td>12.0</td>\n",
       "      <td>Sweet Frozen Soft Drink</td>\n",
       "      <td>490</td>\n",
       "      <td>1</td>\n",
       "      <td>Bob's Diner</td>\n",
       "    </tr>\n",
       "    <tr>\n",
       "      <th>4384</th>\n",
       "      <td>2019-01-01</td>\n",
       "      <td>16</td>\n",
       "      <td>3.21</td>\n",
       "      <td>136.0</td>\n",
       "      <td>Frozen Milky Smoothy</td>\n",
       "      <td>284</td>\n",
       "      <td>1</td>\n",
       "      <td>Bob's Diner</td>\n",
       "    </tr>\n",
       "    <tr>\n",
       "      <th>...</th>\n",
       "      <td>...</td>\n",
       "      <td>...</td>\n",
       "      <td>...</td>\n",
       "      <td>...</td>\n",
       "      <td>...</td>\n",
       "      <td>...</td>\n",
       "      <td>...</td>\n",
       "      <td>...</td>\n",
       "    </tr>\n",
       "    <tr>\n",
       "      <th>104120</th>\n",
       "      <td>2019-01-01</td>\n",
       "      <td>49</td>\n",
       "      <td>1.39</td>\n",
       "      <td>0.0</td>\n",
       "      <td>Awesome Smoothy</td>\n",
       "      <td>78</td>\n",
       "      <td>3</td>\n",
       "      <td>Sweet Shack</td>\n",
       "    </tr>\n",
       "    <tr>\n",
       "      <th>105216</th>\n",
       "      <td>2019-01-01</td>\n",
       "      <td>52</td>\n",
       "      <td>5.68</td>\n",
       "      <td>0.0</td>\n",
       "      <td>Original Sweet Milky Soft Drink</td>\n",
       "      <td>535</td>\n",
       "      <td>3</td>\n",
       "      <td>Sweet Shack</td>\n",
       "    </tr>\n",
       "    <tr>\n",
       "      <th>106312</th>\n",
       "      <td>2019-01-01</td>\n",
       "      <td>77</td>\n",
       "      <td>7.70</td>\n",
       "      <td>0.0</td>\n",
       "      <td>Blue Ribbon Frozen Milky Cake</td>\n",
       "      <td>636</td>\n",
       "      <td>3</td>\n",
       "      <td>Sweet Shack</td>\n",
       "    </tr>\n",
       "    <tr>\n",
       "      <th>107408</th>\n",
       "      <td>2019-01-01</td>\n",
       "      <td>81</td>\n",
       "      <td>5.11</td>\n",
       "      <td>0.0</td>\n",
       "      <td>Fantastic Milky Smoothy</td>\n",
       "      <td>383</td>\n",
       "      <td>3</td>\n",
       "      <td>Sweet Shack</td>\n",
       "    </tr>\n",
       "    <tr>\n",
       "      <th>108504</th>\n",
       "      <td>2019-01-01</td>\n",
       "      <td>86</td>\n",
       "      <td>6.50</td>\n",
       "      <td>0.0</td>\n",
       "      <td>Original Milky Cake</td>\n",
       "      <td>595</td>\n",
       "      <td>3</td>\n",
       "      <td>Sweet Shack</td>\n",
       "    </tr>\n",
       "  </tbody>\n",
       "</table>\n",
       "<p>100 rows × 8 columns</p>\n",
       "</div>"
      ],
      "text/plain": [
       "             date  item_id  price  item_count  \\\n",
       "0      2019-01-01        3  29.22         2.0   \n",
       "1096   2019-01-01        4  26.42        22.0   \n",
       "2192   2019-01-01       12   4.87         7.0   \n",
       "3288   2019-01-01       13   4.18        12.0   \n",
       "4384   2019-01-01       16   3.21       136.0   \n",
       "...           ...      ...    ...         ...   \n",
       "104120 2019-01-01       49   1.39         0.0   \n",
       "105216 2019-01-01       52   5.68         0.0   \n",
       "106312 2019-01-01       77   7.70         0.0   \n",
       "107408 2019-01-01       81   5.11         0.0   \n",
       "108504 2019-01-01       86   6.50         0.0   \n",
       "\n",
       "                              item_name  kcal  store_id   store_name  \n",
       "0                     Sweet Fruity Cake   931         1  Bob's Diner  \n",
       "1096    Amazing Steak Dinner with Rolls   763         1  Bob's Diner  \n",
       "2192               Fantastic Sweet Cola   478         1  Bob's Diner  \n",
       "3288            Sweet Frozen Soft Drink   490         1  Bob's Diner  \n",
       "4384               Frozen Milky Smoothy   284         1  Bob's Diner  \n",
       "...                                 ...   ...       ...          ...  \n",
       "104120                  Awesome Smoothy    78         3  Sweet Shack  \n",
       "105216  Original Sweet Milky Soft Drink   535         3  Sweet Shack  \n",
       "106312    Blue Ribbon Frozen Milky Cake   636         3  Sweet Shack  \n",
       "107408          Fantastic Milky Smoothy   383         3  Sweet Shack  \n",
       "108504              Original Milky Cake   595         3  Sweet Shack  \n",
       "\n",
       "[100 rows x 8 columns]"
      ]
     },
     "execution_count": 8,
     "metadata": {},
     "output_type": "execute_result"
    }
   ],
   "source": [
    "final_data[final_data['date']=='2019-01-01']\n"
   ]
  },
  {
   "cell_type": "code",
   "execution_count": 9,
   "id": "9210be7d",
   "metadata": {
    "colab": {
     "base_uri": "https://localhost:8080/",
     "height": 303
    },
    "id": "9210be7d",
    "outputId": "417d1d0e-3ac1-4228-ce3a-c1eb9681e5b8"
   },
   "outputs": [
    {
     "data": {
      "text/plain": [
       "store_name\n",
       "Fou Cher          30688\n",
       "Bob's Diner       26304\n",
       "Corner Cafe       26304\n",
       "Surfs Up          10960\n",
       "Sweet Shack        8768\n",
       "Beachfront Bar     6576\n",
       "Name: count, dtype: int64"
      ]
     },
     "execution_count": 9,
     "metadata": {},
     "output_type": "execute_result"
    }
   ],
   "source": [
    "final_data['store_name'].value_counts()\n"
   ]
  },
  {
   "cell_type": "code",
   "execution_count": 10,
   "id": "a501b643",
   "metadata": {
    "colab": {
     "base_uri": "https://localhost:8080/",
     "height": 718
    },
    "id": "a501b643",
    "outputId": "2465a63b-2059-438e-b503-a79d1f60039d",
    "scrolled": true
   },
   "outputs": [
    {
     "data": {
      "text/html": [
       "<div>\n",
       "<style scoped>\n",
       "    .dataframe tbody tr th:only-of-type {\n",
       "        vertical-align: middle;\n",
       "    }\n",
       "\n",
       "    .dataframe tbody tr th {\n",
       "        vertical-align: top;\n",
       "    }\n",
       "\n",
       "    .dataframe thead th {\n",
       "        text-align: right;\n",
       "    }\n",
       "</style>\n",
       "<table border=\"1\" class=\"dataframe\">\n",
       "  <thead>\n",
       "    <tr style=\"text-align: right;\">\n",
       "      <th></th>\n",
       "      <th>date</th>\n",
       "      <th>item_id</th>\n",
       "      <th>price</th>\n",
       "      <th>item_count</th>\n",
       "      <th>item_name</th>\n",
       "      <th>kcal</th>\n",
       "      <th>store_id</th>\n",
       "      <th>store_name</th>\n",
       "      <th>sales</th>\n",
       "    </tr>\n",
       "  </thead>\n",
       "  <tbody>\n",
       "    <tr>\n",
       "      <th>0</th>\n",
       "      <td>2019-01-01</td>\n",
       "      <td>3</td>\n",
       "      <td>29.22</td>\n",
       "      <td>2.0</td>\n",
       "      <td>Sweet Fruity Cake</td>\n",
       "      <td>931</td>\n",
       "      <td>1</td>\n",
       "      <td>Bob's Diner</td>\n",
       "      <td>58.44</td>\n",
       "    </tr>\n",
       "    <tr>\n",
       "      <th>1</th>\n",
       "      <td>2019-01-02</td>\n",
       "      <td>3</td>\n",
       "      <td>29.22</td>\n",
       "      <td>0.0</td>\n",
       "      <td>Sweet Fruity Cake</td>\n",
       "      <td>931</td>\n",
       "      <td>1</td>\n",
       "      <td>Bob's Diner</td>\n",
       "      <td>0.00</td>\n",
       "    </tr>\n",
       "    <tr>\n",
       "      <th>2</th>\n",
       "      <td>2019-01-03</td>\n",
       "      <td>3</td>\n",
       "      <td>29.22</td>\n",
       "      <td>0.0</td>\n",
       "      <td>Sweet Fruity Cake</td>\n",
       "      <td>931</td>\n",
       "      <td>1</td>\n",
       "      <td>Bob's Diner</td>\n",
       "      <td>0.00</td>\n",
       "    </tr>\n",
       "    <tr>\n",
       "      <th>3</th>\n",
       "      <td>2019-01-04</td>\n",
       "      <td>3</td>\n",
       "      <td>29.22</td>\n",
       "      <td>6.0</td>\n",
       "      <td>Sweet Fruity Cake</td>\n",
       "      <td>931</td>\n",
       "      <td>1</td>\n",
       "      <td>Bob's Diner</td>\n",
       "      <td>175.32</td>\n",
       "    </tr>\n",
       "    <tr>\n",
       "      <th>4</th>\n",
       "      <td>2019-01-05</td>\n",
       "      <td>3</td>\n",
       "      <td>29.22</td>\n",
       "      <td>4.0</td>\n",
       "      <td>Sweet Fruity Cake</td>\n",
       "      <td>931</td>\n",
       "      <td>1</td>\n",
       "      <td>Bob's Diner</td>\n",
       "      <td>116.88</td>\n",
       "    </tr>\n",
       "    <tr>\n",
       "      <th>...</th>\n",
       "      <td>...</td>\n",
       "      <td>...</td>\n",
       "      <td>...</td>\n",
       "      <td>...</td>\n",
       "      <td>...</td>\n",
       "      <td>...</td>\n",
       "      <td>...</td>\n",
       "      <td>...</td>\n",
       "      <td>...</td>\n",
       "    </tr>\n",
       "    <tr>\n",
       "      <th>109595</th>\n",
       "      <td>2021-12-27</td>\n",
       "      <td>86</td>\n",
       "      <td>6.50</td>\n",
       "      <td>0.0</td>\n",
       "      <td>Original Milky Cake</td>\n",
       "      <td>595</td>\n",
       "      <td>3</td>\n",
       "      <td>Sweet Shack</td>\n",
       "      <td>0.00</td>\n",
       "    </tr>\n",
       "    <tr>\n",
       "      <th>109596</th>\n",
       "      <td>2021-12-28</td>\n",
       "      <td>86</td>\n",
       "      <td>6.50</td>\n",
       "      <td>0.0</td>\n",
       "      <td>Original Milky Cake</td>\n",
       "      <td>595</td>\n",
       "      <td>3</td>\n",
       "      <td>Sweet Shack</td>\n",
       "      <td>0.00</td>\n",
       "    </tr>\n",
       "    <tr>\n",
       "      <th>109597</th>\n",
       "      <td>2021-12-29</td>\n",
       "      <td>86</td>\n",
       "      <td>6.50</td>\n",
       "      <td>0.0</td>\n",
       "      <td>Original Milky Cake</td>\n",
       "      <td>595</td>\n",
       "      <td>3</td>\n",
       "      <td>Sweet Shack</td>\n",
       "      <td>0.00</td>\n",
       "    </tr>\n",
       "    <tr>\n",
       "      <th>109598</th>\n",
       "      <td>2021-12-30</td>\n",
       "      <td>86</td>\n",
       "      <td>6.50</td>\n",
       "      <td>0.0</td>\n",
       "      <td>Original Milky Cake</td>\n",
       "      <td>595</td>\n",
       "      <td>3</td>\n",
       "      <td>Sweet Shack</td>\n",
       "      <td>0.00</td>\n",
       "    </tr>\n",
       "    <tr>\n",
       "      <th>109599</th>\n",
       "      <td>2021-12-31</td>\n",
       "      <td>86</td>\n",
       "      <td>6.50</td>\n",
       "      <td>0.0</td>\n",
       "      <td>Original Milky Cake</td>\n",
       "      <td>595</td>\n",
       "      <td>3</td>\n",
       "      <td>Sweet Shack</td>\n",
       "      <td>0.00</td>\n",
       "    </tr>\n",
       "  </tbody>\n",
       "</table>\n",
       "<p>109600 rows × 9 columns</p>\n",
       "</div>"
      ],
      "text/plain": [
       "             date  item_id  price  item_count            item_name  kcal  \\\n",
       "0      2019-01-01        3  29.22         2.0    Sweet Fruity Cake   931   \n",
       "1      2019-01-02        3  29.22         0.0    Sweet Fruity Cake   931   \n",
       "2      2019-01-03        3  29.22         0.0    Sweet Fruity Cake   931   \n",
       "3      2019-01-04        3  29.22         6.0    Sweet Fruity Cake   931   \n",
       "4      2019-01-05        3  29.22         4.0    Sweet Fruity Cake   931   \n",
       "...           ...      ...    ...         ...                  ...   ...   \n",
       "109595 2021-12-27       86   6.50         0.0  Original Milky Cake   595   \n",
       "109596 2021-12-28       86   6.50         0.0  Original Milky Cake   595   \n",
       "109597 2021-12-29       86   6.50         0.0  Original Milky Cake   595   \n",
       "109598 2021-12-30       86   6.50         0.0  Original Milky Cake   595   \n",
       "109599 2021-12-31       86   6.50         0.0  Original Milky Cake   595   \n",
       "\n",
       "        store_id   store_name   sales  \n",
       "0              1  Bob's Diner   58.44  \n",
       "1              1  Bob's Diner    0.00  \n",
       "2              1  Bob's Diner    0.00  \n",
       "3              1  Bob's Diner  175.32  \n",
       "4              1  Bob's Diner  116.88  \n",
       "...          ...          ...     ...  \n",
       "109595         3  Sweet Shack    0.00  \n",
       "109596         3  Sweet Shack    0.00  \n",
       "109597         3  Sweet Shack    0.00  \n",
       "109598         3  Sweet Shack    0.00  \n",
       "109599         3  Sweet Shack    0.00  \n",
       "\n",
       "[109600 rows x 9 columns]"
      ]
     },
     "execution_count": 10,
     "metadata": {},
     "output_type": "execute_result"
    }
   ],
   "source": [
    "final_data['sales']=final_data['price']*final_data['item_count']\n",
    "final_data\n"
   ]
  },
  {
   "cell_type": "code",
   "execution_count": 11,
   "id": "7bccc920",
   "metadata": {
    "colab": {
     "base_uri": "https://localhost:8080/",
     "height": 1000
    },
    "id": "7bccc920",
    "outputId": "5a5a7a2a-a2f2-4b13-be42-45a9bcd67425"
   },
   "outputs": [
    {
     "data": {
      "text/html": [
       "<div>\n",
       "<style scoped>\n",
       "    .dataframe tbody tr th:only-of-type {\n",
       "        vertical-align: middle;\n",
       "    }\n",
       "\n",
       "    .dataframe tbody tr th {\n",
       "        vertical-align: top;\n",
       "    }\n",
       "\n",
       "    .dataframe thead th {\n",
       "        text-align: right;\n",
       "    }\n",
       "</style>\n",
       "<table border=\"1\" class=\"dataframe\">\n",
       "  <thead>\n",
       "    <tr style=\"text-align: right;\">\n",
       "      <th></th>\n",
       "      <th>date</th>\n",
       "      <th>item_id</th>\n",
       "      <th>price</th>\n",
       "      <th>item_count</th>\n",
       "      <th>item_name</th>\n",
       "      <th>kcal</th>\n",
       "      <th>store_id</th>\n",
       "      <th>store_name</th>\n",
       "      <th>sales</th>\n",
       "    </tr>\n",
       "  </thead>\n",
       "  <tbody>\n",
       "    <tr>\n",
       "      <th>0</th>\n",
       "      <td>2019-01-01</td>\n",
       "      <td>3</td>\n",
       "      <td>29.22</td>\n",
       "      <td>2.0</td>\n",
       "      <td>Sweet Fruity Cake</td>\n",
       "      <td>931</td>\n",
       "      <td>1</td>\n",
       "      <td>Bob's Diner</td>\n",
       "      <td>58.44</td>\n",
       "    </tr>\n",
       "    <tr>\n",
       "      <th>1096</th>\n",
       "      <td>2019-01-01</td>\n",
       "      <td>4</td>\n",
       "      <td>26.42</td>\n",
       "      <td>22.0</td>\n",
       "      <td>Amazing Steak Dinner with Rolls</td>\n",
       "      <td>763</td>\n",
       "      <td>1</td>\n",
       "      <td>Bob's Diner</td>\n",
       "      <td>581.24</td>\n",
       "    </tr>\n",
       "    <tr>\n",
       "      <th>2192</th>\n",
       "      <td>2019-01-01</td>\n",
       "      <td>12</td>\n",
       "      <td>4.87</td>\n",
       "      <td>7.0</td>\n",
       "      <td>Fantastic Sweet Cola</td>\n",
       "      <td>478</td>\n",
       "      <td>1</td>\n",
       "      <td>Bob's Diner</td>\n",
       "      <td>34.09</td>\n",
       "    </tr>\n",
       "    <tr>\n",
       "      <th>3288</th>\n",
       "      <td>2019-01-01</td>\n",
       "      <td>13</td>\n",
       "      <td>4.18</td>\n",
       "      <td>12.0</td>\n",
       "      <td>Sweet Frozen Soft Drink</td>\n",
       "      <td>490</td>\n",
       "      <td>1</td>\n",
       "      <td>Bob's Diner</td>\n",
       "      <td>50.16</td>\n",
       "    </tr>\n",
       "    <tr>\n",
       "      <th>4384</th>\n",
       "      <td>2019-01-01</td>\n",
       "      <td>16</td>\n",
       "      <td>3.21</td>\n",
       "      <td>136.0</td>\n",
       "      <td>Frozen Milky Smoothy</td>\n",
       "      <td>284</td>\n",
       "      <td>1</td>\n",
       "      <td>Bob's Diner</td>\n",
       "      <td>436.56</td>\n",
       "    </tr>\n",
       "    <tr>\n",
       "      <th>...</th>\n",
       "      <td>...</td>\n",
       "      <td>...</td>\n",
       "      <td>...</td>\n",
       "      <td>...</td>\n",
       "      <td>...</td>\n",
       "      <td>...</td>\n",
       "      <td>...</td>\n",
       "      <td>...</td>\n",
       "      <td>...</td>\n",
       "    </tr>\n",
       "    <tr>\n",
       "      <th>104120</th>\n",
       "      <td>2019-01-01</td>\n",
       "      <td>49</td>\n",
       "      <td>1.39</td>\n",
       "      <td>0.0</td>\n",
       "      <td>Awesome Smoothy</td>\n",
       "      <td>78</td>\n",
       "      <td>3</td>\n",
       "      <td>Sweet Shack</td>\n",
       "      <td>0.00</td>\n",
       "    </tr>\n",
       "    <tr>\n",
       "      <th>105216</th>\n",
       "      <td>2019-01-01</td>\n",
       "      <td>52</td>\n",
       "      <td>5.68</td>\n",
       "      <td>0.0</td>\n",
       "      <td>Original Sweet Milky Soft Drink</td>\n",
       "      <td>535</td>\n",
       "      <td>3</td>\n",
       "      <td>Sweet Shack</td>\n",
       "      <td>0.00</td>\n",
       "    </tr>\n",
       "    <tr>\n",
       "      <th>106312</th>\n",
       "      <td>2019-01-01</td>\n",
       "      <td>77</td>\n",
       "      <td>7.70</td>\n",
       "      <td>0.0</td>\n",
       "      <td>Blue Ribbon Frozen Milky Cake</td>\n",
       "      <td>636</td>\n",
       "      <td>3</td>\n",
       "      <td>Sweet Shack</td>\n",
       "      <td>0.00</td>\n",
       "    </tr>\n",
       "    <tr>\n",
       "      <th>107408</th>\n",
       "      <td>2019-01-01</td>\n",
       "      <td>81</td>\n",
       "      <td>5.11</td>\n",
       "      <td>0.0</td>\n",
       "      <td>Fantastic Milky Smoothy</td>\n",
       "      <td>383</td>\n",
       "      <td>3</td>\n",
       "      <td>Sweet Shack</td>\n",
       "      <td>0.00</td>\n",
       "    </tr>\n",
       "    <tr>\n",
       "      <th>108504</th>\n",
       "      <td>2019-01-01</td>\n",
       "      <td>86</td>\n",
       "      <td>6.50</td>\n",
       "      <td>0.0</td>\n",
       "      <td>Original Milky Cake</td>\n",
       "      <td>595</td>\n",
       "      <td>3</td>\n",
       "      <td>Sweet Shack</td>\n",
       "      <td>0.00</td>\n",
       "    </tr>\n",
       "  </tbody>\n",
       "</table>\n",
       "<p>100 rows × 9 columns</p>\n",
       "</div>"
      ],
      "text/plain": [
       "             date  item_id  price  item_count  \\\n",
       "0      2019-01-01        3  29.22         2.0   \n",
       "1096   2019-01-01        4  26.42        22.0   \n",
       "2192   2019-01-01       12   4.87         7.0   \n",
       "3288   2019-01-01       13   4.18        12.0   \n",
       "4384   2019-01-01       16   3.21       136.0   \n",
       "...           ...      ...    ...         ...   \n",
       "104120 2019-01-01       49   1.39         0.0   \n",
       "105216 2019-01-01       52   5.68         0.0   \n",
       "106312 2019-01-01       77   7.70         0.0   \n",
       "107408 2019-01-01       81   5.11         0.0   \n",
       "108504 2019-01-01       86   6.50         0.0   \n",
       "\n",
       "                              item_name  kcal  store_id   store_name   sales  \n",
       "0                     Sweet Fruity Cake   931         1  Bob's Diner   58.44  \n",
       "1096    Amazing Steak Dinner with Rolls   763         1  Bob's Diner  581.24  \n",
       "2192               Fantastic Sweet Cola   478         1  Bob's Diner   34.09  \n",
       "3288            Sweet Frozen Soft Drink   490         1  Bob's Diner   50.16  \n",
       "4384               Frozen Milky Smoothy   284         1  Bob's Diner  436.56  \n",
       "...                                 ...   ...       ...          ...     ...  \n",
       "104120                  Awesome Smoothy    78         3  Sweet Shack    0.00  \n",
       "105216  Original Sweet Milky Soft Drink   535         3  Sweet Shack    0.00  \n",
       "106312    Blue Ribbon Frozen Milky Cake   636         3  Sweet Shack    0.00  \n",
       "107408          Fantastic Milky Smoothy   383         3  Sweet Shack    0.00  \n",
       "108504              Original Milky Cake   595         3  Sweet Shack    0.00  \n",
       "\n",
       "[100 rows x 9 columns]"
      ]
     },
     "execution_count": 11,
     "metadata": {},
     "output_type": "execute_result"
    }
   ],
   "source": [
    "final_data[final_data['date']=='2019-01-01']\n"
   ]
  },
  {
   "cell_type": "code",
   "execution_count": 12,
   "id": "839d28f1",
   "metadata": {
    "colab": {
     "base_uri": "https://localhost:8080/",
     "height": 836
    },
    "id": "839d28f1",
    "outputId": "fbcad1ae-bdfd-4366-811a-6f8ab5192599"
   },
   "outputs": [
    {
     "data": {
      "text/plain": [
       "0          58.44\n",
       "1096      581.24\n",
       "2192       34.09\n",
       "3288       50.16\n",
       "4384      436.56\n",
       "           ...  \n",
       "104120      0.00\n",
       "105216      0.00\n",
       "106312      0.00\n",
       "107408      0.00\n",
       "108504      0.00\n",
       "Name: sales, Length: 100, dtype: float64"
      ]
     },
     "execution_count": 12,
     "metadata": {},
     "output_type": "execute_result"
    }
   ],
   "source": [
    "final_data[final_data['date']=='2019-01-01']['sales']\n"
   ]
  },
  {
   "cell_type": "code",
   "execution_count": 13,
   "id": "8fe3150c",
   "metadata": {
    "colab": {
     "base_uri": "https://localhost:8080/"
    },
    "id": "8fe3150c",
    "outputId": "11123dc4-c716-4db8-a406-b1d2efa68d8f"
   },
   "outputs": [
    {
     "data": {
      "text/plain": [
       "4023.0"
      ]
     },
     "execution_count": 13,
     "metadata": {},
     "output_type": "execute_result"
    }
   ],
   "source": [
    "final_data[final_data['date']=='2019-01-01']['sales'].sum()\n"
   ]
  },
  {
   "cell_type": "code",
   "execution_count": 14,
   "id": "2d1b20b6",
   "metadata": {
    "id": "2d1b20b6"
   },
   "outputs": [],
   "source": [
    "# Aggregate data by date for modeling\n",
    "daily_sales = final_data.groupby('date').agg({\n",
    "    'sales': 'sum'\n",
    "}).reset_index()\n"
   ]
  },
  {
   "cell_type": "code",
   "execution_count": 15,
   "id": "acca5249",
   "metadata": {
    "colab": {
     "base_uri": "https://localhost:8080/",
     "height": 423
    },
    "id": "acca5249",
    "outputId": "19bcfde7-3611-467b-cd42-4330c864df28"
   },
   "outputs": [
    {
     "data": {
      "text/html": [
       "<div>\n",
       "<style scoped>\n",
       "    .dataframe tbody tr th:only-of-type {\n",
       "        vertical-align: middle;\n",
       "    }\n",
       "\n",
       "    .dataframe tbody tr th {\n",
       "        vertical-align: top;\n",
       "    }\n",
       "\n",
       "    .dataframe thead th {\n",
       "        text-align: right;\n",
       "    }\n",
       "</style>\n",
       "<table border=\"1\" class=\"dataframe\">\n",
       "  <thead>\n",
       "    <tr style=\"text-align: right;\">\n",
       "      <th></th>\n",
       "      <th>date</th>\n",
       "      <th>sales</th>\n",
       "    </tr>\n",
       "  </thead>\n",
       "  <tbody>\n",
       "    <tr>\n",
       "      <th>0</th>\n",
       "      <td>2019-01-01</td>\n",
       "      <td>4023.00</td>\n",
       "    </tr>\n",
       "    <tr>\n",
       "      <th>1</th>\n",
       "      <td>2019-01-02</td>\n",
       "      <td>3074.69</td>\n",
       "    </tr>\n",
       "    <tr>\n",
       "      <th>2</th>\n",
       "      <td>2019-01-03</td>\n",
       "      <td>4062.71</td>\n",
       "    </tr>\n",
       "    <tr>\n",
       "      <th>3</th>\n",
       "      <td>2019-01-04</td>\n",
       "      <td>5006.81</td>\n",
       "    </tr>\n",
       "    <tr>\n",
       "      <th>4</th>\n",
       "      <td>2019-01-05</td>\n",
       "      <td>4927.53</td>\n",
       "    </tr>\n",
       "    <tr>\n",
       "      <th>...</th>\n",
       "      <td>...</td>\n",
       "      <td>...</td>\n",
       "    </tr>\n",
       "    <tr>\n",
       "      <th>1091</th>\n",
       "      <td>2021-12-27</td>\n",
       "      <td>1867.71</td>\n",
       "    </tr>\n",
       "    <tr>\n",
       "      <th>1092</th>\n",
       "      <td>2021-12-28</td>\n",
       "      <td>3426.50</td>\n",
       "    </tr>\n",
       "    <tr>\n",
       "      <th>1093</th>\n",
       "      <td>2021-12-29</td>\n",
       "      <td>3715.39</td>\n",
       "    </tr>\n",
       "    <tr>\n",
       "      <th>1094</th>\n",
       "      <td>2021-12-30</td>\n",
       "      <td>5266.27</td>\n",
       "    </tr>\n",
       "    <tr>\n",
       "      <th>1095</th>\n",
       "      <td>2021-12-31</td>\n",
       "      <td>8287.81</td>\n",
       "    </tr>\n",
       "  </tbody>\n",
       "</table>\n",
       "<p>1096 rows × 2 columns</p>\n",
       "</div>"
      ],
      "text/plain": [
       "           date    sales\n",
       "0    2019-01-01  4023.00\n",
       "1    2019-01-02  3074.69\n",
       "2    2019-01-03  4062.71\n",
       "3    2019-01-04  5006.81\n",
       "4    2019-01-05  4927.53\n",
       "...         ...      ...\n",
       "1091 2021-12-27  1867.71\n",
       "1092 2021-12-28  3426.50\n",
       "1093 2021-12-29  3715.39\n",
       "1094 2021-12-30  5266.27\n",
       "1095 2021-12-31  8287.81\n",
       "\n",
       "[1096 rows x 2 columns]"
      ]
     },
     "execution_count": 15,
     "metadata": {},
     "output_type": "execute_result"
    }
   ],
   "source": [
    "daily_sales\n"
   ]
  },
  {
   "cell_type": "code",
   "execution_count": 16,
   "id": "c1311c86",
   "metadata": {
    "colab": {
     "base_uri": "https://localhost:8080/",
     "height": 455
    },
    "id": "c1311c86",
    "outputId": "a0b14c7f-4173-473f-be5c-3f044ef47f8a"
   },
   "outputs": [
    {
     "data": {
      "text/html": [
       "<div>\n",
       "<style scoped>\n",
       "    .dataframe tbody tr th:only-of-type {\n",
       "        vertical-align: middle;\n",
       "    }\n",
       "\n",
       "    .dataframe tbody tr th {\n",
       "        vertical-align: top;\n",
       "    }\n",
       "\n",
       "    .dataframe thead th {\n",
       "        text-align: right;\n",
       "    }\n",
       "</style>\n",
       "<table border=\"1\" class=\"dataframe\">\n",
       "  <thead>\n",
       "    <tr style=\"text-align: right;\">\n",
       "      <th></th>\n",
       "      <th>sales</th>\n",
       "    </tr>\n",
       "    <tr>\n",
       "      <th>date</th>\n",
       "      <th></th>\n",
       "    </tr>\n",
       "  </thead>\n",
       "  <tbody>\n",
       "    <tr>\n",
       "      <th>2019-01-01</th>\n",
       "      <td>4023.00</td>\n",
       "    </tr>\n",
       "    <tr>\n",
       "      <th>2019-01-02</th>\n",
       "      <td>3074.69</td>\n",
       "    </tr>\n",
       "    <tr>\n",
       "      <th>2019-01-03</th>\n",
       "      <td>4062.71</td>\n",
       "    </tr>\n",
       "    <tr>\n",
       "      <th>2019-01-04</th>\n",
       "      <td>5006.81</td>\n",
       "    </tr>\n",
       "    <tr>\n",
       "      <th>2019-01-05</th>\n",
       "      <td>4927.53</td>\n",
       "    </tr>\n",
       "    <tr>\n",
       "      <th>...</th>\n",
       "      <td>...</td>\n",
       "    </tr>\n",
       "    <tr>\n",
       "      <th>2021-12-27</th>\n",
       "      <td>1867.71</td>\n",
       "    </tr>\n",
       "    <tr>\n",
       "      <th>2021-12-28</th>\n",
       "      <td>3426.50</td>\n",
       "    </tr>\n",
       "    <tr>\n",
       "      <th>2021-12-29</th>\n",
       "      <td>3715.39</td>\n",
       "    </tr>\n",
       "    <tr>\n",
       "      <th>2021-12-30</th>\n",
       "      <td>5266.27</td>\n",
       "    </tr>\n",
       "    <tr>\n",
       "      <th>2021-12-31</th>\n",
       "      <td>8287.81</td>\n",
       "    </tr>\n",
       "  </tbody>\n",
       "</table>\n",
       "<p>1096 rows × 1 columns</p>\n",
       "</div>"
      ],
      "text/plain": [
       "              sales\n",
       "date               \n",
       "2019-01-01  4023.00\n",
       "2019-01-02  3074.69\n",
       "2019-01-03  4062.71\n",
       "2019-01-04  5006.81\n",
       "2019-01-05  4927.53\n",
       "...             ...\n",
       "2021-12-27  1867.71\n",
       "2021-12-28  3426.50\n",
       "2021-12-29  3715.39\n",
       "2021-12-30  5266.27\n",
       "2021-12-31  8287.81\n",
       "\n",
       "[1096 rows x 1 columns]"
      ]
     },
     "execution_count": 16,
     "metadata": {},
     "output_type": "execute_result"
    }
   ],
   "source": [
    "daily_sales=daily_sales.set_index('date')\n",
    "daily_sales\n"
   ]
  },
  {
   "cell_type": "code",
   "execution_count": 17,
   "id": "6332104b",
   "metadata": {
    "id": "6332104b"
   },
   "outputs": [],
   "source": [
    "from sklearn.preprocessing import MinMaxScaler\n",
    "# Prepare data for LSTM\n",
    "scaler = MinMaxScaler()\n"
   ]
  },
  {
   "cell_type": "code",
   "execution_count": 18,
   "id": "369e83ac",
   "metadata": {
    "colab": {
     "base_uri": "https://localhost:8080/"
    },
    "id": "369e83ac",
    "outputId": "507c3848-1588-4e68-fcce-a9d1fdedfe55"
   },
   "outputs": [
    {
     "data": {
      "text/plain": [
       "array([[0.24676202],\n",
       "       [0.15428088],\n",
       "       [0.25063462],\n",
       "       ...,\n",
       "       [0.21676326],\n",
       "       [0.36800828],\n",
       "       [0.66267509]])"
      ]
     },
     "execution_count": 18,
     "metadata": {},
     "output_type": "execute_result"
    }
   ],
   "source": [
    "scaled_data= scaler.fit_transform(daily_sales[['sales']])\n",
    "scaled_data\n"
   ]
  },
  {
   "cell_type": "code",
   "execution_count": 19,
   "id": "90826be2",
   "metadata": {
    "id": "90826be2"
   },
   "outputs": [],
   "source": [
    "# Set sequence length and create train/test sets\n",
    "seq_length = 1\n"
   ]
  },
  {
   "cell_type": "code",
   "execution_count": 20,
   "id": "f031602d",
   "metadata": {
    "id": "f031602d"
   },
   "outputs": [],
   "source": [
    "def create_sequences(data, seq_length):\n",
    "    X=[]\n",
    "    y=[]\n",
    "\n",
    "    for i in range(len(data) - seq_length):\n",
    "        X.append(data[i:(i + seq_length), :])\n",
    "        y.append(data[i + seq_length, 0])\n",
    "\n",
    "    return np.array(X), np.array(y)\n"
   ]
  },
  {
   "cell_type": "code",
   "execution_count": 21,
   "id": "009d894d",
   "metadata": {
    "id": "009d894d"
   },
   "outputs": [],
   "source": [
    "X, y = create_sequences(scaled_data, seq_length)\n"
   ]
  },
  {
   "cell_type": "code",
   "execution_count": 22,
   "id": "fcff33d4",
   "metadata": {
    "colab": {
     "base_uri": "https://localhost:8080/"
    },
    "id": "fcff33d4",
    "outputId": "699613b2-9221-48aa-85a4-3b0996d1bc2d"
   },
   "outputs": [
    {
     "data": {
      "text/plain": [
       "array([[[0.24676202]],\n",
       "\n",
       "       [[0.15428088]],\n",
       "\n",
       "       [[0.25063462]],\n",
       "\n",
       "       ...,\n",
       "\n",
       "       [[0.18859011]],\n",
       "\n",
       "       [[0.21676326]],\n",
       "\n",
       "       [[0.36800828]]])"
      ]
     },
     "execution_count": 22,
     "metadata": {},
     "output_type": "execute_result"
    }
   ],
   "source": [
    "X\n"
   ]
  },
  {
   "cell_type": "code",
   "execution_count": 23,
   "id": "48b5099a",
   "metadata": {
    "colab": {
     "base_uri": "https://localhost:8080/"
    },
    "id": "48b5099a",
    "outputId": "85964e45-a3fe-4256-d9e4-0e7e646e5dfd"
   },
   "outputs": [
    {
     "data": {
      "text/plain": [
       "1095"
      ]
     },
     "execution_count": 23,
     "metadata": {},
     "output_type": "execute_result"
    }
   ],
   "source": [
    "len(X)\n"
   ]
  },
  {
   "cell_type": "code",
   "execution_count": 24,
   "id": "71a610e9",
   "metadata": {
    "colab": {
     "base_uri": "https://localhost:8080/"
    },
    "id": "71a610e9",
    "outputId": "09990c53-80c2-4487-9c63-d04137489dc0"
   },
   "outputs": [
    {
     "data": {
      "text/plain": [
       "(1095, 1, 1)"
      ]
     },
     "execution_count": 24,
     "metadata": {},
     "output_type": "execute_result"
    }
   ],
   "source": [
    "X.shape\n"
   ]
  },
  {
   "cell_type": "code",
   "execution_count": 25,
   "id": "19bc6eef",
   "metadata": {
    "colab": {
     "base_uri": "https://localhost:8080/"
    },
    "id": "19bc6eef",
    "outputId": "dac9df61-29a4-4185-bc95-b2d028ac6b23"
   },
   "outputs": [
    {
     "data": {
      "text/plain": [
       "1095"
      ]
     },
     "execution_count": 25,
     "metadata": {},
     "output_type": "execute_result"
    }
   ],
   "source": [
    "len(y)\n"
   ]
  },
  {
   "cell_type": "code",
   "execution_count": 26,
   "id": "7580a889",
   "metadata": {
    "colab": {
     "base_uri": "https://localhost:8080/"
    },
    "id": "7580a889",
    "outputId": "df2be4e9-7719-4896-9974-25efd9fe1269"
   },
   "outputs": [
    {
     "data": {
      "text/plain": [
       "(1095,)"
      ]
     },
     "execution_count": 26,
     "metadata": {},
     "output_type": "execute_result"
    }
   ],
   "source": [
    "\n",
    "y.shape"
   ]
  },
  {
   "cell_type": "code",
   "execution_count": 27,
   "id": "8525aa47",
   "metadata": {
    "colab": {
     "base_uri": "https://localhost:8080/"
    },
    "id": "8525aa47",
    "outputId": "d0546b61-c80b-465e-bc32-79241b33e7f4"
   },
   "outputs": [
    {
     "data": {
      "text/plain": [
       "876.0"
      ]
     },
     "execution_count": 27,
     "metadata": {},
     "output_type": "execute_result"
    }
   ],
   "source": [
    "len(X) * 0.8\n"
   ]
  },
  {
   "cell_type": "code",
   "execution_count": 28,
   "id": "8f4e46fd",
   "metadata": {
    "colab": {
     "base_uri": "https://localhost:8080/"
    },
    "id": "8f4e46fd",
    "outputId": "f7448746-5556-4878-ecca-7b231e40ec66"
   },
   "outputs": [
    {
     "data": {
      "text/plain": [
       "876"
      ]
     },
     "execution_count": 28,
     "metadata": {},
     "output_type": "execute_result"
    }
   ],
   "source": [
    "train_size = int(len(X) * 0.8)\n",
    "train_size\n"
   ]
  },
  {
   "cell_type": "code",
   "execution_count": 29,
   "id": "38295a24",
   "metadata": {
    "id": "38295a24"
   },
   "outputs": [],
   "source": [
    "X_train, X_test = X[:train_size], X[train_size:]\n",
    "y_train, y_test = y[:train_size], y[train_size:]\n"
   ]
  },
  {
   "cell_type": "code",
   "execution_count": 30,
   "id": "7a5fbf44",
   "metadata": {
    "colab": {
     "base_uri": "https://localhost:8080/"
    },
    "id": "7a5fbf44",
    "outputId": "eddfc8f0-3c4d-4e96-86b9-59cc80a2b9e3"
   },
   "outputs": [
    {
     "data": {
      "text/plain": [
       "876"
      ]
     },
     "execution_count": 30,
     "metadata": {},
     "output_type": "execute_result"
    }
   ],
   "source": [
    "len(X_train)\n"
   ]
  },
  {
   "cell_type": "code",
   "execution_count": 31,
   "id": "6470d57a",
   "metadata": {
    "colab": {
     "base_uri": "https://localhost:8080/"
    },
    "id": "6470d57a",
    "outputId": "23e8c2ee-a653-4e1f-8c1a-f371cab1cd74"
   },
   "outputs": [
    {
     "data": {
      "text/plain": [
       "876"
      ]
     },
     "execution_count": 31,
     "metadata": {},
     "output_type": "execute_result"
    }
   ],
   "source": [
    "len(y_train)\n"
   ]
  },
  {
   "cell_type": "code",
   "execution_count": 32,
   "id": "1ea05e2c",
   "metadata": {
    "colab": {
     "base_uri": "https://localhost:8080/"
    },
    "id": "1ea05e2c",
    "outputId": "dfc67645-5060-47ee-e72c-807fa4d7b3f0"
   },
   "outputs": [
    {
     "data": {
      "text/plain": [
       "219"
      ]
     },
     "execution_count": 32,
     "metadata": {},
     "output_type": "execute_result"
    }
   ],
   "source": [
    "len(X_test)\n"
   ]
  },
  {
   "cell_type": "code",
   "execution_count": 33,
   "id": "c03b716b",
   "metadata": {
    "colab": {
     "base_uri": "https://localhost:8080/"
    },
    "id": "c03b716b",
    "outputId": "e9af9e7c-e082-4bff-b4bb-52a2d029147d"
   },
   "outputs": [
    {
     "data": {
      "text/plain": [
       "219"
      ]
     },
     "execution_count": 33,
     "metadata": {},
     "output_type": "execute_result"
    }
   ],
   "source": [
    "len(y_test)\n"
   ]
  },
  {
   "cell_type": "code",
   "execution_count": 34,
   "id": "6c475bb8",
   "metadata": {
    "colab": {
     "base_uri": "https://localhost:8080/"
    },
    "id": "6c475bb8",
    "outputId": "5cc3a9cb-a2d3-4c64-f7a1-0407addb96aa"
   },
   "outputs": [
    {
     "data": {
      "text/plain": [
       "(876, 1, 1)"
      ]
     },
     "execution_count": 34,
     "metadata": {},
     "output_type": "execute_result"
    }
   ],
   "source": [
    "X_train.shape\n"
   ]
  },
  {
   "cell_type": "code",
   "execution_count": 35,
   "id": "7062b51b",
   "metadata": {
    "colab": {
     "base_uri": "https://localhost:8080/"
    },
    "id": "7062b51b",
    "outputId": "5ef055ff-cde6-4477-c7d3-82bb2910e25d"
   },
   "outputs": [
    {
     "data": {
      "text/plain": [
       "(219, 1, 1)"
      ]
     },
     "execution_count": 35,
     "metadata": {},
     "output_type": "execute_result"
    }
   ],
   "source": [
    "X_test.shape\n"
   ]
  },
  {
   "cell_type": "code",
   "execution_count": 36,
   "id": "e009f4a8",
   "metadata": {
    "colab": {
     "base_uri": "https://localhost:8080/"
    },
    "id": "e009f4a8",
    "outputId": "5844ae53-e1cb-4a9c-a795-84122bacd6e1"
   },
   "outputs": [
    {
     "data": {
      "text/plain": [
       "(876,)"
      ]
     },
     "execution_count": 36,
     "metadata": {},
     "output_type": "execute_result"
    }
   ],
   "source": [
    "y_train.shape\n"
   ]
  },
  {
   "cell_type": "code",
   "execution_count": 37,
   "id": "9d2bbbf5",
   "metadata": {
    "colab": {
     "base_uri": "https://localhost:8080/"
    },
    "id": "9d2bbbf5",
    "outputId": "7570ad83-5544-4a2a-9eec-92df88ee4f34"
   },
   "outputs": [
    {
     "data": {
      "text/plain": [
       "(219,)"
      ]
     },
     "execution_count": 37,
     "metadata": {},
     "output_type": "execute_result"
    }
   ],
   "source": [
    "y_test.shape\n"
   ]
  },
  {
   "cell_type": "code",
   "execution_count": 38,
   "id": "1fEJTLtIsYk0",
   "metadata": {
    "colab": {
     "base_uri": "https://localhost:8080/"
    },
    "id": "1fEJTLtIsYk0",
    "outputId": "d49759ac-3cdf-4248-88f5-d720ae75f37d"
   },
   "outputs": [
    {
     "data": {
      "text/plain": [
       "1"
      ]
     },
     "execution_count": 38,
     "metadata": {},
     "output_type": "execute_result"
    }
   ],
   "source": [
    "seq_length\n"
   ]
  },
  {
   "cell_type": "code",
   "execution_count": 39,
   "id": "7d51d0c1",
   "metadata": {
    "colab": {
     "base_uri": "https://localhost:8080/"
    },
    "id": "7d51d0c1",
    "outputId": "4322eeaa-4513-4791-82a6-5646f9578917"
   },
   "outputs": [
    {
     "name": "stderr",
     "output_type": "stream",
     "text": [
      "C:\\Users\\TR\\anaconda3\\lib\\site-packages\\keras\\src\\layers\\rnn\\rnn.py:204: UserWarning: Do not pass an `input_shape`/`input_dim` argument to a layer. When using Sequential models, prefer using an `Input(shape)` object as the first layer in the model instead.\n",
      "  super().__init__(**kwargs)\n"
     ]
    },
    {
     "data": {
      "text/plain": [
       "<keras.src.callbacks.history.History at 0x1f882e2f460>"
      ]
     },
     "execution_count": 39,
     "metadata": {},
     "output_type": "execute_result"
    }
   ],
   "source": [
    "from tensorflow.keras.models import Sequential\n",
    "from tensorflow.keras.layers import LSTM, Dropout, Dense\n",
    "from tensorflow.keras.optimizers import Adam\n",
    "import tensorflow as tf\n",
    "import numpy as np\n",
    "np.random.seed(12345)\n",
    "tf.keras.utils.set_random_seed(12345)\n",
    "\n",
    "model1 = Sequential()\n",
    "model1.add(LSTM(512, input_shape=(seq_length, 1), return_sequences=True))\n",
    "model1.add (Dropout (0.1))\n",
    "\n",
    "# Second LSTM layer\n",
    "model1.add(LSTM(512, return_sequences=False))\n",
    "model1.add (Dropout (0.1))\n",
    "\n",
    "# Dense layers\n",
    "model1.add(Dense(64, activation='relu'))\n",
    "model1.add(Dense(1, activation='linear'))\n",
    "\n",
    "# Compile the model\n",
    "optimizer = Adam()\n",
    "model1.compile(loss='mse',\n",
    "              optimizer='adam')\n",
    "\n",
    "\n",
    "history = model1.fit(X_train, y_train, epochs=200, batch_size=256, verbose=0)\n",
    "history\n"
   ]
  },
  {
   "cell_type": "code",
   "execution_count": 40,
   "id": "lXwgXDkdpVb6",
   "metadata": {
    "colab": {
     "base_uri": "https://localhost:8080/"
    },
    "id": "lXwgXDkdpVb6",
    "outputId": "bed0768d-beb4-4e43-8c42-c468b0dbc400"
   },
   "outputs": [
    {
     "name": "stdout",
     "output_type": "stream",
     "text": [
      "\u001b[1m7/7\u001b[0m \u001b[32m━━━━━━━━━━━━━━━━━━━━\u001b[0m\u001b[37m\u001b[0m \u001b[1m0s\u001b[0m 32ms/step\n"
     ]
    },
    {
     "data": {
      "text/plain": [
       "array([[0.50417703],\n",
       "       [0.60326433],\n",
       "       [0.66608787],\n",
       "       [0.64621866],\n",
       "       [0.43940988],\n",
       "       [0.5142089 ],\n",
       "       [0.5180663 ],\n",
       "       [0.51124936],\n",
       "       [0.59745884],\n",
       "       [0.66797495],\n",
       "       [0.6729259 ],\n",
       "       [0.46494335],\n",
       "       [0.49612388],\n",
       "       [0.49635485],\n",
       "       [0.56281817],\n",
       "       [0.6246599 ],\n",
       "       [0.673382  ],\n",
       "       [0.6805774 ],\n",
       "       [0.4848975 ],\n",
       "       [0.46001673],\n",
       "       [0.51478577],\n",
       "       [0.5612564 ],\n",
       "       [0.6396964 ],\n",
       "       [0.68868846],\n",
       "       [0.68636715],\n",
       "       [0.42250597],\n",
       "       [0.48190504],\n",
       "       [0.5234307 ],\n",
       "       [0.51222974],\n",
       "       [0.6204213 ],\n",
       "       [0.6634129 ],\n",
       "       [0.67330056],\n",
       "       [0.47638014],\n",
       "       [0.49502498],\n",
       "       [0.5325799 ],\n",
       "       [0.5570906 ],\n",
       "       [0.6463797 ],\n",
       "       [0.6733589 ],\n",
       "       [0.6650034 ],\n",
       "       [0.46980074],\n",
       "       [0.54673386],\n",
       "       [0.47564092],\n",
       "       [0.5680988 ],\n",
       "       [0.6429851 ],\n",
       "       [0.6975865 ],\n",
       "       [0.67864907],\n",
       "       [0.48383832],\n",
       "       [0.49199954],\n",
       "       [0.510439  ],\n",
       "       [0.51662695],\n",
       "       [0.6033903 ],\n",
       "       [0.6693356 ],\n",
       "       [0.6856848 ],\n",
       "       [0.4837215 ],\n",
       "       [0.47257632],\n",
       "       [0.5210722 ],\n",
       "       [0.5496421 ],\n",
       "       [0.6218331 ],\n",
       "       [0.67342377],\n",
       "       [0.67518055],\n",
       "       [0.45971677],\n",
       "       [0.4989553 ],\n",
       "       [0.47097754],\n",
       "       [0.56344664],\n",
       "       [0.62221634],\n",
       "       [0.65057456],\n",
       "       [0.6619038 ],\n",
       "       [0.464401  ],\n",
       "       [0.45614436],\n",
       "       [0.45416862],\n",
       "       [0.51581913],\n",
       "       [0.62263   ],\n",
       "       [0.64816475],\n",
       "       [0.6628771 ],\n",
       "       [0.40797514],\n",
       "       [0.43990484],\n",
       "       [0.47367036],\n",
       "       [0.49775404],\n",
       "       [0.5736641 ],\n",
       "       [0.66720587],\n",
       "       [0.6070099 ],\n",
       "       [0.44223484],\n",
       "       [0.40774667],\n",
       "       [0.43874502],\n",
       "       [0.51786786],\n",
       "       [0.55165064],\n",
       "       [0.66032314],\n",
       "       [0.62318814],\n",
       "       [0.41407597],\n",
       "       [0.40222508],\n",
       "       [0.45085838],\n",
       "       [0.46784812],\n",
       "       [0.5961258 ],\n",
       "       [0.63685256],\n",
       "       [0.6231605 ],\n",
       "       [0.44907883],\n",
       "       [0.44156846],\n",
       "       [0.42332458],\n",
       "       [0.45240003],\n",
       "       [0.56381387],\n",
       "       [0.5961006 ],\n",
       "       [0.6154957 ],\n",
       "       [0.40741932],\n",
       "       [0.46642143],\n",
       "       [0.42486912],\n",
       "       [0.42399967],\n",
       "       [0.524203  ],\n",
       "       [0.64604175],\n",
       "       [0.6116431 ],\n",
       "       [0.37151778],\n",
       "       [0.38688132],\n",
       "       [0.36976618],\n",
       "       [0.4366573 ],\n",
       "       [0.52555543],\n",
       "       [0.5816615 ],\n",
       "       [0.62744045],\n",
       "       [0.34106728],\n",
       "       [0.39781153],\n",
       "       [0.33042806],\n",
       "       [0.4228129 ],\n",
       "       [0.52673507],\n",
       "       [0.6056717 ],\n",
       "       [0.5793638 ],\n",
       "       [0.32302976],\n",
       "       [0.3403874 ],\n",
       "       [0.33302107],\n",
       "       [0.38360065],\n",
       "       [0.542449  ],\n",
       "       [0.6004054 ],\n",
       "       [0.5608162 ],\n",
       "       [0.36436462],\n",
       "       [0.29336554],\n",
       "       [0.3822955 ],\n",
       "       [0.36780906],\n",
       "       [0.5033829 ],\n",
       "       [0.5629212 ],\n",
       "       [0.5874826 ],\n",
       "       [0.25918105],\n",
       "       [0.39406648],\n",
       "       [0.36288732],\n",
       "       [0.35569227],\n",
       "       [0.48897785],\n",
       "       [0.5856745 ],\n",
       "       [0.5456645 ],\n",
       "       [0.327021  ],\n",
       "       [0.28485727],\n",
       "       [0.35884428],\n",
       "       [0.34151945],\n",
       "       [0.48048446],\n",
       "       [0.5645497 ],\n",
       "       [0.57013583],\n",
       "       [0.24402648],\n",
       "       [0.26517937],\n",
       "       [0.34625125],\n",
       "       [0.37479421],\n",
       "       [0.4904244 ],\n",
       "       [0.5628831 ],\n",
       "       [0.5823382 ],\n",
       "       [0.27449757],\n",
       "       [0.20876485],\n",
       "       [0.2794235 ],\n",
       "       [0.37178847],\n",
       "       [0.47469118],\n",
       "       [0.5418488 ],\n",
       "       [0.54774594],\n",
       "       [0.28680328],\n",
       "       [0.18682344],\n",
       "       [0.2285876 ],\n",
       "       [0.29543528],\n",
       "       [0.57039666],\n",
       "       [0.5335473 ],\n",
       "       [0.48109114],\n",
       "       [0.2760178 ],\n",
       "       [0.19141331],\n",
       "       [0.29735243],\n",
       "       [0.29627502],\n",
       "       [0.3974062 ],\n",
       "       [0.5429319 ],\n",
       "       [0.53092504],\n",
       "       [0.23311707],\n",
       "       [0.19078419],\n",
       "       [0.28933078],\n",
       "       [0.35457867],\n",
       "       [0.5662502 ],\n",
       "       [0.57382417],\n",
       "       [0.47633067],\n",
       "       [0.22912806],\n",
       "       [0.14065951],\n",
       "       [0.20808755],\n",
       "       [0.26228258],\n",
       "       [0.49006218],\n",
       "       [0.5435284 ],\n",
       "       [0.5093949 ],\n",
       "       [0.16633159],\n",
       "       [0.24216905],\n",
       "       [0.24635845],\n",
       "       [0.29559302],\n",
       "       [0.42002678],\n",
       "       [0.47694376],\n",
       "       [0.5019236 ],\n",
       "       [0.1965763 ],\n",
       "       [0.18827632],\n",
       "       [0.2579884 ],\n",
       "       [0.30493456],\n",
       "       [0.44521475],\n",
       "       [0.48091292],\n",
       "       [0.54111993],\n",
       "       [0.20700225],\n",
       "       [0.20388131],\n",
       "       [0.251804  ],\n",
       "       [0.29507264],\n",
       "       [0.43465585],\n",
       "       [0.5819874 ],\n",
       "       [0.5044671 ],\n",
       "       [0.14182493],\n",
       "       [0.12701415],\n",
       "       [0.26185155],\n",
       "       [0.2845441 ],\n",
       "       [0.39339572]], dtype=float32)"
      ]
     },
     "execution_count": 40,
     "metadata": {},
     "output_type": "execute_result"
    }
   ],
   "source": [
    "test_predictions1 = model1.predict(X_test)\n",
    "test_predictions1\n"
   ]
  },
  {
   "cell_type": "code",
   "execution_count": 41,
   "id": "6Uv4w0n9pePD",
   "metadata": {
    "colab": {
     "base_uri": "https://localhost:8080/"
    },
    "id": "6Uv4w0n9pePD",
    "outputId": "7c4d743d-8dcc-49d2-b4ee-534d3cd3b6ec"
   },
   "outputs": [
    {
     "data": {
      "text/plain": [
       "219"
      ]
     },
     "execution_count": 41,
     "metadata": {},
     "output_type": "execute_result"
    }
   ],
   "source": [
    "len(test_predictions1)\n"
   ]
  },
  {
   "cell_type": "code",
   "execution_count": 42,
   "id": "okr2ns1ppeRo",
   "metadata": {
    "colab": {
     "base_uri": "https://localhost:8080/"
    },
    "id": "okr2ns1ppeRo",
    "outputId": "cf4692fc-eaa1-46cd-a86e-7c293e153a55"
   },
   "outputs": [
    {
     "data": {
      "text/plain": [
       "(219, 1)"
      ]
     },
     "execution_count": 42,
     "metadata": {},
     "output_type": "execute_result"
    }
   ],
   "source": [
    "test_predictions1.shape\n"
   ]
  },
  {
   "cell_type": "code",
   "execution_count": 43,
   "id": "JhEQ0cMGpeUI",
   "metadata": {
    "colab": {
     "base_uri": "https://localhost:8080/"
    },
    "id": "JhEQ0cMGpeUI",
    "outputId": "09a25536-0d77-4c20-f8e0-f222b5756db9"
   },
   "outputs": [
    {
     "data": {
      "text/plain": [
       "array([6662.5566, 7678.6064, 8322.805 , 8119.064 , 5998.4287, 6765.4243,\n",
       "       6804.978 , 6735.0767, 7619.0767, 8342.155 , 8392.923 , 6260.2505,\n",
       "       6579.979 , 6582.347 , 7263.8677, 7897.9985, 8397.6   , 8471.382 ,\n",
       "       6464.8623, 6209.7324, 6771.3394, 7247.8535, 8052.1846, 8554.553 ,\n",
       "       8530.75  , 5825.094 , 6434.1772, 6859.9854, 6745.1294, 7854.5356,\n",
       "       8295.376 , 8396.765 , 6377.525 , 6568.7104, 6953.802 , 7205.1367,\n",
       "       8120.7153, 8397.362 , 8311.685 , 6310.059 , 7098.938 , 6369.945 ,\n",
       "       7318.0156, 8085.9067, 8645.794 , 8451.608 , 6454.0015, 6537.6875,\n",
       "       6726.767 , 6790.219 , 7679.898 , 8356.107 , 8523.753 , 6452.8037,\n",
       "       6338.52  , 6835.8013, 7128.7593, 7869.012 , 8398.027 , 8416.042 ,\n",
       "       6206.657 , 6609.012 , 6322.126 , 7270.3125, 7872.942 , 8163.73  ,\n",
       "       8279.9   , 6254.6895, 6170.0254, 6149.7656, 6781.9355, 7877.1836,\n",
       "       8139.0195, 8289.881 , 5676.0938, 6003.504 , 6349.7383, 6596.6943,\n",
       "       7375.0835, 8334.269 , 7717.0137, 6027.396 , 5673.751 , 5991.611 ,\n",
       "       6802.9434, 7149.355 , 8263.692 , 7882.907 , 5738.652 , 5617.132 ,\n",
       "       6115.8223, 6290.0366, 7605.407 , 8023.0234, 7882.6235, 6097.5747,\n",
       "       6020.563 , 5833.4883, 6131.6304, 7274.0776, 7605.1494, 7804.028 ,\n",
       "       5670.394 , 6275.407 , 5849.326 , 5840.4106, 6867.9043, 8117.25  ,\n",
       "       7764.523 , 5302.2563, 5459.796 , 5284.2954, 5970.203 , 6881.7725,\n",
       "       7457.0894, 7926.5107, 4990.0146, 5571.875 , 4880.919 , 5828.2417,\n",
       "       6893.8687, 7703.292 , 7433.5283, 4805.056 , 4983.043 , 4907.5083,\n",
       "       5426.1553, 7055.0005, 7649.2905, 7243.34  , 5228.907 , 4500.8765,\n",
       "       5412.772 , 5264.227 , 6654.4136, 7264.925 , 7516.779 , 4150.3457,\n",
       "       5533.473 , 5213.759 , 5139.9805, 6506.7026, 7498.2393, 7087.9727,\n",
       "       4845.983 , 4413.6323, 5172.3013, 4994.6514, 6419.611 , 7281.623 ,\n",
       "       7338.904 , 3994.9495, 4211.853 , 5043.1714, 5335.8535, 6521.5356,\n",
       "       7264.5337, 7464.0283, 4307.403 , 3633.3735, 4357.9136, 5305.0327,\n",
       "       6360.206 , 7048.8457, 7109.316 , 4433.5864, 3408.3843, 3836.638 ,\n",
       "       4522.1   , 7341.5786, 6963.7217, 6425.8315, 4322.9917, 3455.4495,\n",
       "       4541.759 , 4530.711 , 5567.7188, 7059.9526, 6936.833 , 3883.0835,\n",
       "       3448.9983, 4459.504 , 5128.5615, 7299.06  , 7376.7246, 6377.0176,\n",
       "       3842.18  , 2935.0154, 3626.4282, 4182.1494, 6517.8213, 7066.069 ,\n",
       "       6716.0605, 3198.259 , 3975.9033, 4018.8618, 4523.7173, 5799.6724,\n",
       "       6383.304 , 6639.4497, 3508.391 , 3423.2825, 4138.116 , 4619.5063,\n",
       "       6057.9517, 6424.004 , 7041.372 , 3615.2998, 3583.297 , 4074.701 ,\n",
       "       4518.3813, 5949.6797, 7460.4307, 6665.5312, 2946.9656, 2795.0945,\n",
       "       4177.7295, 4410.421 , 5526.5947], dtype=float32)"
      ]
     },
     "execution_count": 43,
     "metadata": {},
     "output_type": "execute_result"
    }
   ],
   "source": [
    "test_predictions1 = scaler.inverse_transform(test_predictions1)[:,0]\n",
    "test_predictions1\n"
   ]
  },
  {
   "cell_type": "code",
   "execution_count": 44,
   "id": "U9pyvXh2peWi",
   "metadata": {
    "colab": {
     "base_uri": "https://localhost:8080/"
    },
    "id": "U9pyvXh2peWi",
    "outputId": "3a030eff-e140-4669-a514-4bae2e2446d7"
   },
   "outputs": [
    {
     "data": {
      "text/plain": [
       "array([0.75371388, 0.90997836, 0.85755245, 0.43995225, 0.57014323,\n",
       "       0.57737839, 0.56463031, 0.74055328, 0.91512167, 0.92875916,\n",
       "       0.48238313, 0.53695647, 0.53737289, 0.66575581, 0.8039397 ,\n",
       "       0.93002597, 0.95025595, 0.51693714, 0.47404499, 0.57122182,\n",
       "       0.66252393, 0.84099223, 0.97362808, 0.96687566, 0.4128811 ,\n",
       "       0.5116729 , 0.58753532, 0.566453  , 0.79376522, 0.90273832,\n",
       "       0.92979972, 0.5020309 , 0.53497775, 0.60512049, 0.65395857,\n",
       "       0.85796497, 0.92996161, 0.90703612, 0.49067738, 0.63300498,\n",
       "       0.50074848, 0.67676898, 0.84930403, 1.        , 0.94478886,\n",
       "       0.51507057, 0.52955162, 0.56312652, 0.57467216, 0.75400157,\n",
       "       0.91884897, 0.96490083, 0.5148648 , 0.49545011, 0.58305613,\n",
       "       0.6388407 , 0.79714143, 0.93014202, 0.93503958, 0.47353983,\n",
       "       0.54207443, 0.49269804, 0.66705968, 0.79806009, 0.86878504,\n",
       "       0.89867945, 0.48146154, 0.46754319, 0.46424305, 0.57315666,\n",
       "       0.79905287, 0.86255338, 0.901295  , 0.390216  , 0.44075681,\n",
       "       0.49733814, 0.53989969, 0.68852136, 0.91302202, 0.76230753,\n",
       "       0.44455334, 0.38986395, 0.43887268, 0.57700488, 0.64289274,\n",
       "       0.89444797, 0.80039379, 0.39966589, 0.38139513, 0.45873988,\n",
       "       0.48733432, 0.73755838, 0.83386629, 0.80032748, 0.45579471,\n",
       "       0.44346597, 0.41417425, 0.46129886, 0.6678223 , 0.73750182,\n",
       "       0.78208403, 0.38935976, 0.4848992 , 0.41661912, 0.41524211,\n",
       "       0.58900692, 0.85709897, 0.77305153, 0.335629  , 0.3582512 ,\n",
       "       0.33308368, 0.43549062, 0.59158931, 0.70567939, 0.8106775 ,\n",
       "       0.29231848, 0.37467976, 0.27763653, 0.41336579, 0.59384792,\n",
       "       0.75922778, 0.70071649, 0.26755763, 0.29137349, 0.28119414,\n",
       "       0.35337509, 0.62447375, 0.74720916, 0.66161502, 0.32527704,\n",
       "       0.22817237, 0.35144221, 0.33024774, 0.55013463, 0.66596938,\n",
       "       0.71837481, 0.1853397 , 0.36901861, 0.32315301, 0.31287516,\n",
       "       0.52416353, 0.71441249, 0.63086827, 0.27298181, 0.21716603,\n",
       "       0.3173641 , 0.2929475 , 0.50918414, 0.66935242, 0.68105312,\n",
       "       0.16709625, 0.19265581, 0.29955462, 0.34040856, 0.52673909,\n",
       "       0.66589039, 0.70714612, 0.20413123, 0.12591756, 0.21025269,\n",
       "       0.33602299, 0.49910328, 0.62328495, 0.63503148, 0.21967235,\n",
       "       0.1011372 , 0.14885377, 0.23086885, 0.68160315, 0.60699974,\n",
       "       0.51024616, 0.20601633, 0.10626979, 0.23337322, 0.231965  ,\n",
       "       0.37406537, 0.62543141, 0.60191494, 0.15417068, 0.10556471,\n",
       "       0.22293738, 0.31129432, 0.67289833, 0.68886171, 0.50194508,\n",
       "       0.14948669, 0.05093967, 0.12514324, 0.18911576, 0.52609349,\n",
       "       0.62661533, 0.56119266, 0.07854134, 0.16488348, 0.16988148,\n",
       "       0.23107462, 0.40897535, 0.50301002, 0.54747033, 0.11207528,\n",
       "       0.102759  , 0.1838915 , 0.24334193, 0.4494314 , 0.50993408,\n",
       "       0.62184358, 0.12390373, 0.12034808, 0.17641643, 0.23039587,\n",
       "       0.43225971, 0.70638545, 0.5521192 , 0.05217625, 0.0365737 ,\n",
       "       0.18859011, 0.21676326, 0.36800828, 0.66267509])"
      ]
     },
     "execution_count": 44,
     "metadata": {},
     "output_type": "execute_result"
    }
   ],
   "source": [
    "y_test\n"
   ]
  },
  {
   "cell_type": "code",
   "execution_count": 45,
   "id": "9QnRoKxDp9YG",
   "metadata": {
    "colab": {
     "base_uri": "https://localhost:8080/"
    },
    "id": "9QnRoKxDp9YG",
    "outputId": "41efac2f-b361-4024-b7a1-a1171cbeec06"
   },
   "outputs": [
    {
     "data": {
      "text/plain": [
       "array([[0.75371388],\n",
       "       [0.90997836],\n",
       "       [0.85755245],\n",
       "       [0.43995225],\n",
       "       [0.57014323],\n",
       "       [0.57737839],\n",
       "       [0.56463031],\n",
       "       [0.74055328],\n",
       "       [0.91512167],\n",
       "       [0.92875916],\n",
       "       [0.48238313],\n",
       "       [0.53695647],\n",
       "       [0.53737289],\n",
       "       [0.66575581],\n",
       "       [0.8039397 ],\n",
       "       [0.93002597],\n",
       "       [0.95025595],\n",
       "       [0.51693714],\n",
       "       [0.47404499],\n",
       "       [0.57122182],\n",
       "       [0.66252393],\n",
       "       [0.84099223],\n",
       "       [0.97362808],\n",
       "       [0.96687566],\n",
       "       [0.4128811 ],\n",
       "       [0.5116729 ],\n",
       "       [0.58753532],\n",
       "       [0.566453  ],\n",
       "       [0.79376522],\n",
       "       [0.90273832],\n",
       "       [0.92979972],\n",
       "       [0.5020309 ],\n",
       "       [0.53497775],\n",
       "       [0.60512049],\n",
       "       [0.65395857],\n",
       "       [0.85796497],\n",
       "       [0.92996161],\n",
       "       [0.90703612],\n",
       "       [0.49067738],\n",
       "       [0.63300498],\n",
       "       [0.50074848],\n",
       "       [0.67676898],\n",
       "       [0.84930403],\n",
       "       [1.        ],\n",
       "       [0.94478886],\n",
       "       [0.51507057],\n",
       "       [0.52955162],\n",
       "       [0.56312652],\n",
       "       [0.57467216],\n",
       "       [0.75400157],\n",
       "       [0.91884897],\n",
       "       [0.96490083],\n",
       "       [0.5148648 ],\n",
       "       [0.49545011],\n",
       "       [0.58305613],\n",
       "       [0.6388407 ],\n",
       "       [0.79714143],\n",
       "       [0.93014202],\n",
       "       [0.93503958],\n",
       "       [0.47353983],\n",
       "       [0.54207443],\n",
       "       [0.49269804],\n",
       "       [0.66705968],\n",
       "       [0.79806009],\n",
       "       [0.86878504],\n",
       "       [0.89867945],\n",
       "       [0.48146154],\n",
       "       [0.46754319],\n",
       "       [0.46424305],\n",
       "       [0.57315666],\n",
       "       [0.79905287],\n",
       "       [0.86255338],\n",
       "       [0.901295  ],\n",
       "       [0.390216  ],\n",
       "       [0.44075681],\n",
       "       [0.49733814],\n",
       "       [0.53989969],\n",
       "       [0.68852136],\n",
       "       [0.91302202],\n",
       "       [0.76230753],\n",
       "       [0.44455334],\n",
       "       [0.38986395],\n",
       "       [0.43887268],\n",
       "       [0.57700488],\n",
       "       [0.64289274],\n",
       "       [0.89444797],\n",
       "       [0.80039379],\n",
       "       [0.39966589],\n",
       "       [0.38139513],\n",
       "       [0.45873988],\n",
       "       [0.48733432],\n",
       "       [0.73755838],\n",
       "       [0.83386629],\n",
       "       [0.80032748],\n",
       "       [0.45579471],\n",
       "       [0.44346597],\n",
       "       [0.41417425],\n",
       "       [0.46129886],\n",
       "       [0.6678223 ],\n",
       "       [0.73750182],\n",
       "       [0.78208403],\n",
       "       [0.38935976],\n",
       "       [0.4848992 ],\n",
       "       [0.41661912],\n",
       "       [0.41524211],\n",
       "       [0.58900692],\n",
       "       [0.85709897],\n",
       "       [0.77305153],\n",
       "       [0.335629  ],\n",
       "       [0.3582512 ],\n",
       "       [0.33308368],\n",
       "       [0.43549062],\n",
       "       [0.59158931],\n",
       "       [0.70567939],\n",
       "       [0.8106775 ],\n",
       "       [0.29231848],\n",
       "       [0.37467976],\n",
       "       [0.27763653],\n",
       "       [0.41336579],\n",
       "       [0.59384792],\n",
       "       [0.75922778],\n",
       "       [0.70071649],\n",
       "       [0.26755763],\n",
       "       [0.29137349],\n",
       "       [0.28119414],\n",
       "       [0.35337509],\n",
       "       [0.62447375],\n",
       "       [0.74720916],\n",
       "       [0.66161502],\n",
       "       [0.32527704],\n",
       "       [0.22817237],\n",
       "       [0.35144221],\n",
       "       [0.33024774],\n",
       "       [0.55013463],\n",
       "       [0.66596938],\n",
       "       [0.71837481],\n",
       "       [0.1853397 ],\n",
       "       [0.36901861],\n",
       "       [0.32315301],\n",
       "       [0.31287516],\n",
       "       [0.52416353],\n",
       "       [0.71441249],\n",
       "       [0.63086827],\n",
       "       [0.27298181],\n",
       "       [0.21716603],\n",
       "       [0.3173641 ],\n",
       "       [0.2929475 ],\n",
       "       [0.50918414],\n",
       "       [0.66935242],\n",
       "       [0.68105312],\n",
       "       [0.16709625],\n",
       "       [0.19265581],\n",
       "       [0.29955462],\n",
       "       [0.34040856],\n",
       "       [0.52673909],\n",
       "       [0.66589039],\n",
       "       [0.70714612],\n",
       "       [0.20413123],\n",
       "       [0.12591756],\n",
       "       [0.21025269],\n",
       "       [0.33602299],\n",
       "       [0.49910328],\n",
       "       [0.62328495],\n",
       "       [0.63503148],\n",
       "       [0.21967235],\n",
       "       [0.1011372 ],\n",
       "       [0.14885377],\n",
       "       [0.23086885],\n",
       "       [0.68160315],\n",
       "       [0.60699974],\n",
       "       [0.51024616],\n",
       "       [0.20601633],\n",
       "       [0.10626979],\n",
       "       [0.23337322],\n",
       "       [0.231965  ],\n",
       "       [0.37406537],\n",
       "       [0.62543141],\n",
       "       [0.60191494],\n",
       "       [0.15417068],\n",
       "       [0.10556471],\n",
       "       [0.22293738],\n",
       "       [0.31129432],\n",
       "       [0.67289833],\n",
       "       [0.68886171],\n",
       "       [0.50194508],\n",
       "       [0.14948669],\n",
       "       [0.05093967],\n",
       "       [0.12514324],\n",
       "       [0.18911576],\n",
       "       [0.52609349],\n",
       "       [0.62661533],\n",
       "       [0.56119266],\n",
       "       [0.07854134],\n",
       "       [0.16488348],\n",
       "       [0.16988148],\n",
       "       [0.23107462],\n",
       "       [0.40897535],\n",
       "       [0.50301002],\n",
       "       [0.54747033],\n",
       "       [0.11207528],\n",
       "       [0.102759  ],\n",
       "       [0.1838915 ],\n",
       "       [0.24334193],\n",
       "       [0.4494314 ],\n",
       "       [0.50993408],\n",
       "       [0.62184358],\n",
       "       [0.12390373],\n",
       "       [0.12034808],\n",
       "       [0.17641643],\n",
       "       [0.23039587],\n",
       "       [0.43225971],\n",
       "       [0.70638545],\n",
       "       [0.5521192 ],\n",
       "       [0.05217625],\n",
       "       [0.0365737 ],\n",
       "       [0.18859011],\n",
       "       [0.21676326],\n",
       "       [0.36800828],\n",
       "       [0.66267509]])"
      ]
     },
     "execution_count": 45,
     "metadata": {},
     "output_type": "execute_result"
    }
   ],
   "source": [
    "y_test.reshape(-1, 1)\n"
   ]
  },
  {
   "cell_type": "code",
   "execution_count": 46,
   "id": "33grgvWcp9aY",
   "metadata": {
    "colab": {
     "base_uri": "https://localhost:8080/"
    },
    "id": "33grgvWcp9aY",
    "outputId": "233d9d3a-47e3-4058-8feb-a52ca7e6020f"
   },
   "outputs": [
    {
     "data": {
      "text/plain": [
       "array([ 9221.33, 10823.68, 10286.1 ,  6003.99,  7338.98,  7413.17,\n",
       "        7282.45,  9086.38, 10876.42, 11016.26,  6439.08,  6998.68,\n",
       "        7002.95,  8319.4 ,  9736.35, 11029.25, 11236.69,  6793.4 ,\n",
       "        6353.58,  7350.04,  8286.26, 10116.29, 11476.35, 11407.11,\n",
       "        5726.4 ,  6739.42,  7517.32,  7301.14,  9632.02, 10749.44,\n",
       "       11026.93,  6640.55,  6978.39,  7697.64,  8198.43, 10290.33,\n",
       "       11028.59, 10793.51,  6524.13,  7983.57,  6627.4 ,  8432.33,\n",
       "       10201.52, 11746.77, 11180.63,  6774.26,  6922.75,  7267.03,\n",
       "        7385.42,  9224.28, 10914.64, 11386.86,  6772.15,  6573.07,\n",
       "        7471.39,  8043.41,  9666.64, 11030.44, 11080.66,  6348.4 ,\n",
       "        7051.16,  6544.85,  8332.77,  9676.06, 10401.28, 10707.82,\n",
       "        6429.63,  6286.91,  6253.07,  7369.88,  9686.24, 10337.38,\n",
       "       10734.64,  5493.99,  6012.24,  6592.43,  7028.86,  8552.84,\n",
       "       10854.89,  9309.45,  6051.17,  5490.38,  5992.92,  7409.34,\n",
       "        8084.96, 10664.43,  9699.99,  5590.89,  5403.54,  6196.64,\n",
       "        6489.85,  9055.67, 10043.22,  9699.31,  6166.44,  6040.02,\n",
       "        5739.66,  6222.88,  8340.59,  9055.09,  9512.24,  5485.21,\n",
       "        6464.88,  5764.73,  5750.61,  7532.41, 10281.45,  9419.62,\n",
       "        4934.25,  5166.22,  4908.15,  5958.24,  7558.89,  8728.78,\n",
       "        9805.44,  4490.14,  5334.68,  4339.59,  5731.37,  7582.05,\n",
       "        9277.87,  8677.89,  4236.24,  4480.45,  4376.07,  5116.22,\n",
       "        7896.09,  9154.63,  8276.94,  4828.1 ,  3832.38,  5096.4 ,\n",
       "        4879.07,  7133.81,  8321.59,  8858.96,  3393.17,  5276.63,\n",
       "        4806.32,  4700.93,  6867.5 ,  8818.33,  7961.66,  4291.86,\n",
       "        3719.52,  4746.96,  4496.59,  6713.9 ,  8356.28,  8476.26,\n",
       "        3206.1 ,  3468.19,  4564.34,  4983.26,  6893.91,  8320.78,\n",
       "        8743.82,  3585.86,  2783.85,  3648.63,  4938.29,  6610.53,\n",
       "        7883.9 ,  8004.35,  3745.22,  2529.75,  3019.04,  3860.03,\n",
       "        8481.9 ,  7716.91,  6724.79,  3605.19,  2582.38,  3885.71,\n",
       "        3871.27,  5328.38,  7905.91,  7664.77,  3073.56,  2575.15,\n",
       "        3778.7 ,  4684.72,  8392.64,  8556.33,  6639.67,  3025.53,\n",
       "        2015.02,  2775.91,  3431.89,  6887.29,  7918.05,  7247.2 ,\n",
       "        2298.05,  3183.41,  3234.66,  3862.14,  5686.35,  6650.59,\n",
       "        7106.49,  2641.91,  2546.38,  3378.32,  3987.93,  6101.19,\n",
       "        6721.59,  7869.12,  2763.2 ,  2726.74,  3301.67,  3855.18,\n",
       "        5925.11,  8736.02,  7154.16,  2027.7 ,  1867.71,  3426.5 ,\n",
       "        3715.39,  5266.27,  8287.81])"
      ]
     },
     "execution_count": 46,
     "metadata": {},
     "output_type": "execute_result"
    }
   ],
   "source": [
    "y_test_inv1 = scaler.inverse_transform(y_test.reshape(-1, 1))[:,0]\n",
    "y_test_inv1\n"
   ]
  },
  {
   "cell_type": "code",
   "execution_count": 47,
   "id": "6v_5TmLTp9c5",
   "metadata": {
    "colab": {
     "base_uri": "https://localhost:8080/"
    },
    "id": "6v_5TmLTp9c5",
    "outputId": "cec25da9-d442-4f64-a41b-9b7a4683513d"
   },
   "outputs": [
    {
     "data": {
      "text/plain": [
       "219"
      ]
     },
     "execution_count": 47,
     "metadata": {},
     "output_type": "execute_result"
    }
   ],
   "source": [
    "len(y_test_inv1)\n"
   ]
  },
  {
   "cell_type": "code",
   "execution_count": 48,
   "id": "rRJ7zOW0qaGz",
   "metadata": {
    "colab": {
     "base_uri": "https://localhost:8080/"
    },
    "id": "rRJ7zOW0qaGz",
    "outputId": "d8c0599a-cb74-42b0-b0d1-12f91188b1e3"
   },
   "outputs": [
    {
     "data": {
      "text/plain": [
       "DatetimeIndex(['2021-05-27', '2021-05-28', '2021-05-29', '2021-05-30',\n",
       "               '2021-05-31', '2021-06-01', '2021-06-02', '2021-06-03',\n",
       "               '2021-06-04', '2021-06-05',\n",
       "               ...\n",
       "               '2021-12-22', '2021-12-23', '2021-12-24', '2021-12-25',\n",
       "               '2021-12-26', '2021-12-27', '2021-12-28', '2021-12-29',\n",
       "               '2021-12-30', '2021-12-31'],\n",
       "              dtype='datetime64[ns]', name='date', length=219, freq=None)"
      ]
     },
     "execution_count": 48,
     "metadata": {},
     "output_type": "execute_result"
    }
   ],
   "source": [
    "test_dates=daily_sales.index[-len(y_test_inv1):]\n",
    "test_dates\n"
   ]
  },
  {
   "cell_type": "code",
   "execution_count": 49,
   "id": "23uzqa2DqaJY",
   "metadata": {
    "colab": {
     "base_uri": "https://localhost:8080/"
    },
    "id": "23uzqa2DqaJY",
    "outputId": "7fab5d09-a3f4-436f-997b-709e879695e5"
   },
   "outputs": [
    {
     "data": {
      "text/plain": [
       "219"
      ]
     },
     "execution_count": 49,
     "metadata": {},
     "output_type": "execute_result"
    }
   ],
   "source": [
    "len(test_dates)\n"
   ]
  },
  {
   "cell_type": "code",
   "execution_count": 50,
   "id": "sjjMqPQXqaLv",
   "metadata": {
    "id": "sjjMqPQXqaLv"
   },
   "outputs": [],
   "source": [
    "assert len(test_dates) == len(y_test_inv1) == len(test_predictions1), \"Length of variables do not match.\"\n"
   ]
  },
  {
   "cell_type": "code",
   "execution_count": 51,
   "id": "dcOBLpVOrfKC",
   "metadata": {
    "colab": {
     "base_uri": "https://localhost:8080/"
    },
    "id": "dcOBLpVOrfKC",
    "outputId": "9d163134-3abc-4ac7-8742-62da5906f717"
   },
   "outputs": [
    {
     "name": "stdout",
     "output_type": "stream",
     "text": [
      "The MAE for the model is 1582.710693671518\n",
      "The MAPE for the model is 0.2651627508553792\n"
     ]
    }
   ],
   "source": [
    "# Check MAE value\n",
    "from sklearn.metrics import mean_absolute_error, mean_absolute_percentage_error\n",
    "\n",
    "performance_MAE1 = mean_absolute_error(y_test_inv1, test_predictions1)\n",
    "print(f'The MAE for the model is {performance_MAE1}')\n",
    "\n",
    "# Check MAPE value\n",
    "performance_MAPE1 = mean_absolute_percentage_error(y_test_inv1, test_predictions1)\n",
    "print(f'The MAPE for the model is {performance_MAPE1}')\n"
   ]
  },
  {
   "cell_type": "code",
   "execution_count": 52,
   "id": "X9NHXfrbru0Y",
   "metadata": {
    "id": "X9NHXfrbru0Y"
   },
   "outputs": [
    {
     "data": {
      "text/plain": [
       "0.7348372491446208"
      ]
     },
     "execution_count": 52,
     "metadata": {},
     "output_type": "execute_result"
    }
   ],
   "source": [
    "1-performance_MAPE1\n",
    "#it is a low performance\n"
   ]
  },
  {
   "cell_type": "code",
   "execution_count": 53,
   "id": "13VVh6Q_q1vC",
   "metadata": {
    "colab": {
     "base_uri": "https://localhost:8080/",
     "height": 564
    },
    "id": "13VVh6Q_q1vC",
    "outputId": "263b0a13-546b-4809-8f71-8480c8127505"
   },
   "outputs": [
    {
     "data": {
      "image/png": "[encoded data removed]",
      "text/plain": [
       "<Figure size 1000x600 with 1 Axes>"
      ]
     },
     "metadata": {},
     "output_type": "display_data"
    }
   ],
   "source": [
    "plt.figure(figsize=(10, 6))\n",
    "plt.plot(test_dates, y_test_inv1, label='Actual Price', color='blue')\n",
    "plt.plot(test_dates, test_predictions1, label='Predicted Price', color='red')\n",
    "plt.title('Sales Prediction')\n",
    "plt.xlabel('Date')\n",
    "plt.ylabel('Sales')\n",
    "plt.legend()\n",
    "plt.show()\n"
   ]
  },
  {
   "cell_type": "raw",
   "id": "55462caf",
   "metadata": {},
   "source": [
    "In order to increase the efficiency of RSM LSTM model prediction, we can use the technical indicators that we use for stock market prediction for analysing and predicting sales.\n",
    "\n",
    "SMA_20\n",
    "Simple Moving Average\n",
    "The SMA is an indicator that shows the overall trend of prices by calculating the average of prices over a specified period. The term SMA_20 represents the average of the prices for the last 20 days. The SMA is used to determine the general trend of sales and to identify potential support and resistance levels.\n",
    "\n",
    "EMA_20\n",
    "Exponential Moving Average\n",
    "The EMA is a type of moving average calculated by applying an exponential weighting to past sales periods.\n",
    "The term EMA_20 represents the exponentially weighted average of the closing prices for the last 20 days.\n",
    "The EMA responds more quickly to sales changes and is used to identify short-term trends.\n",
    "\n",
    "RSI\n",
    "Relative Strength Index\n",
    "The RSI is a momentum indicator that attempts to determine overbought or oversold conditions by comparing the gains and losses of sales over a specific period. A 14-day period is commonly used.\n",
    "\n",
    "MACD\n",
    "Moving Average Convergence Divergence\n",
    "The MACD is an indicator that shows the relationship between two moving averages of different periods.\n",
    "It is calculated by subtracting the 26-day EMA from the 12-day EMA. MACD diff represents the difference between the MACD line and the signal line (9-day EMA).\n",
    "\n"
   ]
  },
  {
   "cell_type": "code",
   "execution_count": 54,
   "id": "eeWtARDyq1xo",
   "metadata": {
    "colab": {
     "base_uri": "https://localhost:8080/",
     "height": 455
    },
    "id": "eeWtARDyq1xo",
    "outputId": "626dd8f8-e432-41d5-c104-92b7b66f4361"
   },
   "outputs": [
    {
     "data": {
      "text/html": [
       "<div>\n",
       "<style scoped>\n",
       "    .dataframe tbody tr th:only-of-type {\n",
       "        vertical-align: middle;\n",
       "    }\n",
       "\n",
       "    .dataframe tbody tr th {\n",
       "        vertical-align: top;\n",
       "    }\n",
       "\n",
       "    .dataframe thead th {\n",
       "        text-align: right;\n",
       "    }\n",
       "</style>\n",
       "<table border=\"1\" class=\"dataframe\">\n",
       "  <thead>\n",
       "    <tr style=\"text-align: right;\">\n",
       "      <th></th>\n",
       "      <th>sales</th>\n",
       "    </tr>\n",
       "    <tr>\n",
       "      <th>date</th>\n",
       "      <th></th>\n",
       "    </tr>\n",
       "  </thead>\n",
       "  <tbody>\n",
       "    <tr>\n",
       "      <th>2019-01-01</th>\n",
       "      <td>4023.00</td>\n",
       "    </tr>\n",
       "    <tr>\n",
       "      <th>2019-01-02</th>\n",
       "      <td>3074.69</td>\n",
       "    </tr>\n",
       "    <tr>\n",
       "      <th>2019-01-03</th>\n",
       "      <td>4062.71</td>\n",
       "    </tr>\n",
       "    <tr>\n",
       "      <th>2019-01-04</th>\n",
       "      <td>5006.81</td>\n",
       "    </tr>\n",
       "    <tr>\n",
       "      <th>2019-01-05</th>\n",
       "      <td>4927.53</td>\n",
       "    </tr>\n",
       "    <tr>\n",
       "      <th>...</th>\n",
       "      <td>...</td>\n",
       "    </tr>\n",
       "    <tr>\n",
       "      <th>2021-12-27</th>\n",
       "      <td>1867.71</td>\n",
       "    </tr>\n",
       "    <tr>\n",
       "      <th>2021-12-28</th>\n",
       "      <td>3426.50</td>\n",
       "    </tr>\n",
       "    <tr>\n",
       "      <th>2021-12-29</th>\n",
       "      <td>3715.39</td>\n",
       "    </tr>\n",
       "    <tr>\n",
       "      <th>2021-12-30</th>\n",
       "      <td>5266.27</td>\n",
       "    </tr>\n",
       "    <tr>\n",
       "      <th>2021-12-31</th>\n",
       "      <td>8287.81</td>\n",
       "    </tr>\n",
       "  </tbody>\n",
       "</table>\n",
       "<p>1096 rows × 1 columns</p>\n",
       "</div>"
      ],
      "text/plain": [
       "              sales\n",
       "date               \n",
       "2019-01-01  4023.00\n",
       "2019-01-02  3074.69\n",
       "2019-01-03  4062.71\n",
       "2019-01-04  5006.81\n",
       "2019-01-05  4927.53\n",
       "...             ...\n",
       "2021-12-27  1867.71\n",
       "2021-12-28  3426.50\n",
       "2021-12-29  3715.39\n",
       "2021-12-30  5266.27\n",
       "2021-12-31  8287.81\n",
       "\n",
       "[1096 rows x 1 columns]"
      ]
     },
     "execution_count": 54,
     "metadata": {},
     "output_type": "execute_result"
    }
   ],
   "source": [
    "daily_sales\n"
   ]
  },
  {
   "cell_type": "code",
   "execution_count": 55,
   "id": "hbbU2q3ntxhU",
   "metadata": {
    "colab": {
     "base_uri": "https://localhost:8080/"
    },
    "id": "hbbU2q3ntxhU",
    "outputId": "f50406c4-df19-4706-9cf5-e85f2f2ce827"
   },
   "outputs": [
    {
     "name": "stdout",
     "output_type": "stream",
     "text": [
      "Looking in indexes: https://pypi.org/simple, https://pypi.ngc.nvidia.com\n",
      "Requirement already satisfied: ta in c:\\users\\tr\\anaconda3\\lib\\site-packages (0.11.0)\n",
      "Requirement already satisfied: numpy in c:\\users\\tr\\anaconda3\\lib\\site-packages (from ta) (1.26.4)\n",
      "Requirement already satisfied: pandas in c:\\users\\tr\\anaconda3\\lib\\site-packages (from ta) (2.0.2)\n",
      "Requirement already satisfied: python-dateutil>=2.8.2 in c:\\users\\tr\\anaconda3\\lib\\site-packages (from pandas->ta) (2.8.2)\n",
      "Requirement already satisfied: pytz>=2020.1 in c:\\users\\tr\\anaconda3\\lib\\site-packages (from pandas->ta) (2023.3)\n",
      "Requirement already satisfied: tzdata>=2022.1 in c:\\users\\tr\\anaconda3\\lib\\site-packages (from pandas->ta) (2023.3)\n",
      "Requirement already satisfied: six>=1.5 in c:\\users\\tr\\anaconda3\\lib\\site-packages (from python-dateutil>=2.8.2->pandas->ta) (1.16.0)\n"
     ]
    }
   ],
   "source": [
    "!pip install ta\n"
   ]
  },
  {
   "cell_type": "code",
   "execution_count": 56,
   "id": "iFjZ4kMdtxkg",
   "metadata": {
    "id": "iFjZ4kMdtxkg"
   },
   "outputs": [],
   "source": [
    "import ta\n"
   ]
  },
  {
   "cell_type": "code",
   "execution_count": 57,
   "id": "RGMCh0uXq1z4",
   "metadata": {
    "id": "RGMCh0uXq1z4"
   },
   "outputs": [],
   "source": [
    "def calculate_indicators (df):\n",
    "    df['SMA_20'] = ta.trend.sma_indicator(df['sales'], window=20)\n",
    "    df['EMA_20'] = ta.trend.ema_indicator(df['sales'], window=20)\n",
    "    df['RSI'] = ta.momentum.rsi(df['sales'], window=14)\n",
    "    df['MACD'] = ta.trend.macd_diff(df['sales'])\n",
    "    return df\n"
   ]
  },
  {
   "cell_type": "code",
   "execution_count": 58,
   "id": "ljt-gkRRq12Q",
   "metadata": {
    "colab": {
     "base_uri": "https://localhost:8080/",
     "height": 455
    },
    "id": "ljt-gkRRq12Q",
    "outputId": "de36e050-c730-4138-a4b7-59ff57a4430b"
   },
   "outputs": [
    {
     "data": {
      "text/html": [
       "<div>\n",
       "<style scoped>\n",
       "    .dataframe tbody tr th:only-of-type {\n",
       "        vertical-align: middle;\n",
       "    }\n",
       "\n",
       "    .dataframe tbody tr th {\n",
       "        vertical-align: top;\n",
       "    }\n",
       "\n",
       "    .dataframe thead th {\n",
       "        text-align: right;\n",
       "    }\n",
       "</style>\n",
       "<table border=\"1\" class=\"dataframe\">\n",
       "  <thead>\n",
       "    <tr style=\"text-align: right;\">\n",
       "      <th></th>\n",
       "      <th>sales</th>\n",
       "      <th>SMA_20</th>\n",
       "      <th>EMA_20</th>\n",
       "      <th>RSI</th>\n",
       "      <th>MACD</th>\n",
       "    </tr>\n",
       "    <tr>\n",
       "      <th>date</th>\n",
       "      <th></th>\n",
       "      <th></th>\n",
       "      <th></th>\n",
       "      <th></th>\n",
       "      <th></th>\n",
       "    </tr>\n",
       "  </thead>\n",
       "  <tbody>\n",
       "    <tr>\n",
       "      <th>2019-01-01</th>\n",
       "      <td>4023.00</td>\n",
       "      <td>NaN</td>\n",
       "      <td>NaN</td>\n",
       "      <td>NaN</td>\n",
       "      <td>NaN</td>\n",
       "    </tr>\n",
       "    <tr>\n",
       "      <th>2019-01-02</th>\n",
       "      <td>3074.69</td>\n",
       "      <td>NaN</td>\n",
       "      <td>NaN</td>\n",
       "      <td>NaN</td>\n",
       "      <td>NaN</td>\n",
       "    </tr>\n",
       "    <tr>\n",
       "      <th>2019-01-03</th>\n",
       "      <td>4062.71</td>\n",
       "      <td>NaN</td>\n",
       "      <td>NaN</td>\n",
       "      <td>NaN</td>\n",
       "      <td>NaN</td>\n",
       "    </tr>\n",
       "    <tr>\n",
       "      <th>2019-01-04</th>\n",
       "      <td>5006.81</td>\n",
       "      <td>NaN</td>\n",
       "      <td>NaN</td>\n",
       "      <td>NaN</td>\n",
       "      <td>NaN</td>\n",
       "    </tr>\n",
       "    <tr>\n",
       "      <th>2019-01-05</th>\n",
       "      <td>4927.53</td>\n",
       "      <td>NaN</td>\n",
       "      <td>NaN</td>\n",
       "      <td>NaN</td>\n",
       "      <td>NaN</td>\n",
       "    </tr>\n",
       "    <tr>\n",
       "      <th>...</th>\n",
       "      <td>...</td>\n",
       "      <td>...</td>\n",
       "      <td>...</td>\n",
       "      <td>...</td>\n",
       "      <td>...</td>\n",
       "    </tr>\n",
       "    <tr>\n",
       "      <th>2021-12-27</th>\n",
       "      <td>1867.71</td>\n",
       "      <td>4745.475</td>\n",
       "      <td>4637.880237</td>\n",
       "      <td>43.570573</td>\n",
       "      <td>-178.180217</td>\n",
       "    </tr>\n",
       "    <tr>\n",
       "      <th>2021-12-28</th>\n",
       "      <td>3426.50</td>\n",
       "      <td>4723.693</td>\n",
       "      <td>4522.510691</td>\n",
       "      <td>47.287813</td>\n",
       "      <td>-198.783604</td>\n",
       "    </tr>\n",
       "    <tr>\n",
       "      <th>2021-12-29</th>\n",
       "      <td>3715.39</td>\n",
       "      <td>4625.145</td>\n",
       "      <td>4445.642053</td>\n",
       "      <td>47.971855</td>\n",
       "      <td>-182.155365</td>\n",
       "    </tr>\n",
       "    <tr>\n",
       "      <th>2021-12-30</th>\n",
       "      <td>5266.27</td>\n",
       "      <td>4555.929</td>\n",
       "      <td>4523.797096</td>\n",
       "      <td>51.602821</td>\n",
       "      <td>-62.110322</td>\n",
       "    </tr>\n",
       "    <tr>\n",
       "      <th>2021-12-31</th>\n",
       "      <td>8287.81</td>\n",
       "      <td>4614.995</td>\n",
       "      <td>4882.274515</td>\n",
       "      <td>57.784304</td>\n",
       "      <td>210.457058</td>\n",
       "    </tr>\n",
       "  </tbody>\n",
       "</table>\n",
       "<p>1096 rows × 5 columns</p>\n",
       "</div>"
      ],
      "text/plain": [
       "              sales    SMA_20       EMA_20        RSI        MACD\n",
       "date                                                             \n",
       "2019-01-01  4023.00       NaN          NaN        NaN         NaN\n",
       "2019-01-02  3074.69       NaN          NaN        NaN         NaN\n",
       "2019-01-03  4062.71       NaN          NaN        NaN         NaN\n",
       "2019-01-04  5006.81       NaN          NaN        NaN         NaN\n",
       "2019-01-05  4927.53       NaN          NaN        NaN         NaN\n",
       "...             ...       ...          ...        ...         ...\n",
       "2021-12-27  1867.71  4745.475  4637.880237  43.570573 -178.180217\n",
       "2021-12-28  3426.50  4723.693  4522.510691  47.287813 -198.783604\n",
       "2021-12-29  3715.39  4625.145  4445.642053  47.971855 -182.155365\n",
       "2021-12-30  5266.27  4555.929  4523.797096  51.602821  -62.110322\n",
       "2021-12-31  8287.81  4614.995  4882.274515  57.784304  210.457058\n",
       "\n",
       "[1096 rows x 5 columns]"
      ]
     },
     "execution_count": 58,
     "metadata": {},
     "output_type": "execute_result"
    }
   ],
   "source": [
    "daily_sales = calculate_indicators(daily_sales)\n",
    "daily_sales\n"
   ]
  },
  {
   "cell_type": "code",
   "execution_count": 59,
   "id": "wSwhfbkkqaOr",
   "metadata": {
    "colab": {
     "base_uri": "https://localhost:8080/",
     "height": 455
    },
    "id": "wSwhfbkkqaOr",
    "outputId": "c889a948-c636-4a66-fdc6-15e6b20e9811"
   },
   "outputs": [
    {
     "data": {
      "text/html": [
       "<div>\n",
       "<style scoped>\n",
       "    .dataframe tbody tr th:only-of-type {\n",
       "        vertical-align: middle;\n",
       "    }\n",
       "\n",
       "    .dataframe tbody tr th {\n",
       "        vertical-align: top;\n",
       "    }\n",
       "\n",
       "    .dataframe thead th {\n",
       "        text-align: right;\n",
       "    }\n",
       "</style>\n",
       "<table border=\"1\" class=\"dataframe\">\n",
       "  <thead>\n",
       "    <tr style=\"text-align: right;\">\n",
       "      <th></th>\n",
       "      <th>sales</th>\n",
       "      <th>SMA_20</th>\n",
       "      <th>EMA_20</th>\n",
       "      <th>RSI</th>\n",
       "      <th>MACD</th>\n",
       "    </tr>\n",
       "    <tr>\n",
       "      <th>date</th>\n",
       "      <th></th>\n",
       "      <th></th>\n",
       "      <th></th>\n",
       "      <th></th>\n",
       "      <th></th>\n",
       "    </tr>\n",
       "  </thead>\n",
       "  <tbody>\n",
       "    <tr>\n",
       "      <th>2019-02-03</th>\n",
       "      <td>2247.87</td>\n",
       "      <td>3830.3080</td>\n",
       "      <td>3834.825647</td>\n",
       "      <td>45.135366</td>\n",
       "      <td>14.490420</td>\n",
       "    </tr>\n",
       "    <tr>\n",
       "      <th>2019-02-04</th>\n",
       "      <td>1725.79</td>\n",
       "      <td>3799.8715</td>\n",
       "      <td>3633.965109</td>\n",
       "      <td>43.708277</td>\n",
       "      <td>-134.614358</td>\n",
       "    </tr>\n",
       "    <tr>\n",
       "      <th>2019-02-05</th>\n",
       "      <td>2733.73</td>\n",
       "      <td>3793.8970</td>\n",
       "      <td>3548.228432</td>\n",
       "      <td>47.180522</td>\n",
       "      <td>-157.244344</td>\n",
       "    </tr>\n",
       "    <tr>\n",
       "      <th>2019-02-06</th>\n",
       "      <td>3841.29</td>\n",
       "      <td>3744.9520</td>\n",
       "      <td>3576.139058</td>\n",
       "      <td>50.773711</td>\n",
       "      <td>-92.700170</td>\n",
       "    </tr>\n",
       "    <tr>\n",
       "      <th>2019-02-07</th>\n",
       "      <td>4539.81</td>\n",
       "      <td>3677.3720</td>\n",
       "      <td>3667.917243</td>\n",
       "      <td>52.947727</td>\n",
       "      <td>-2.793129</td>\n",
       "    </tr>\n",
       "    <tr>\n",
       "      <th>...</th>\n",
       "      <td>...</td>\n",
       "      <td>...</td>\n",
       "      <td>...</td>\n",
       "      <td>...</td>\n",
       "      <td>...</td>\n",
       "    </tr>\n",
       "    <tr>\n",
       "      <th>2021-12-27</th>\n",
       "      <td>1867.71</td>\n",
       "      <td>4745.4750</td>\n",
       "      <td>4637.880237</td>\n",
       "      <td>43.570573</td>\n",
       "      <td>-178.180217</td>\n",
       "    </tr>\n",
       "    <tr>\n",
       "      <th>2021-12-28</th>\n",
       "      <td>3426.50</td>\n",
       "      <td>4723.6930</td>\n",
       "      <td>4522.510691</td>\n",
       "      <td>47.287813</td>\n",
       "      <td>-198.783604</td>\n",
       "    </tr>\n",
       "    <tr>\n",
       "      <th>2021-12-29</th>\n",
       "      <td>3715.39</td>\n",
       "      <td>4625.1450</td>\n",
       "      <td>4445.642053</td>\n",
       "      <td>47.971855</td>\n",
       "      <td>-182.155365</td>\n",
       "    </tr>\n",
       "    <tr>\n",
       "      <th>2021-12-30</th>\n",
       "      <td>5266.27</td>\n",
       "      <td>4555.9290</td>\n",
       "      <td>4523.797096</td>\n",
       "      <td>51.602821</td>\n",
       "      <td>-62.110322</td>\n",
       "    </tr>\n",
       "    <tr>\n",
       "      <th>2021-12-31</th>\n",
       "      <td>8287.81</td>\n",
       "      <td>4614.9950</td>\n",
       "      <td>4882.274515</td>\n",
       "      <td>57.784304</td>\n",
       "      <td>210.457058</td>\n",
       "    </tr>\n",
       "  </tbody>\n",
       "</table>\n",
       "<p>1063 rows × 5 columns</p>\n",
       "</div>"
      ],
      "text/plain": [
       "              sales     SMA_20       EMA_20        RSI        MACD\n",
       "date                                                              \n",
       "2019-02-03  2247.87  3830.3080  3834.825647  45.135366   14.490420\n",
       "2019-02-04  1725.79  3799.8715  3633.965109  43.708277 -134.614358\n",
       "2019-02-05  2733.73  3793.8970  3548.228432  47.180522 -157.244344\n",
       "2019-02-06  3841.29  3744.9520  3576.139058  50.773711  -92.700170\n",
       "2019-02-07  4539.81  3677.3720  3667.917243  52.947727   -2.793129\n",
       "...             ...        ...          ...        ...         ...\n",
       "2021-12-27  1867.71  4745.4750  4637.880237  43.570573 -178.180217\n",
       "2021-12-28  3426.50  4723.6930  4522.510691  47.287813 -198.783604\n",
       "2021-12-29  3715.39  4625.1450  4445.642053  47.971855 -182.155365\n",
       "2021-12-30  5266.27  4555.9290  4523.797096  51.602821  -62.110322\n",
       "2021-12-31  8287.81  4614.9950  4882.274515  57.784304  210.457058\n",
       "\n",
       "[1063 rows x 5 columns]"
      ]
     },
     "execution_count": 59,
     "metadata": {},
     "output_type": "execute_result"
    }
   ],
   "source": [
    "daily_sales = daily_sales.dropna()\n",
    "daily_sales\n"
   ]
  },
  {
   "cell_type": "code",
   "execution_count": 60,
   "id": "tLVCouTUtgMx",
   "metadata": {
    "id": "tLVCouTUtgMx"
   },
   "outputs": [],
   "source": [
    "# Prepare data for LSTM\n",
    "scaler = MinMaxScaler()\n"
   ]
  },
  {
   "cell_type": "code",
   "execution_count": 61,
   "id": "5KMLNncZtgPE",
   "metadata": {
    "colab": {
     "base_uri": "https://localhost:8080/"
    },
    "id": "5KMLNncZtgPE",
    "outputId": "8bed327f-f111-4897-913f-cc9817719133"
   },
   "outputs": [
    {
     "data": {
      "text/plain": [
       "array([[0.07364769, 0.07385342, 0.07035694, 0.16499104, 0.4795294 ],\n",
       "       [0.02273337, 0.06826887, 0.03530789, 0.08588448, 0.25162305],\n",
       "       [0.12102975, 0.06717266, 0.02034732, 0.27835844, 0.21703317],\n",
       "       ...,\n",
       "       [0.21676326, 0.21969169, 0.17694099, 0.32222373, 0.17895672],\n",
       "       [0.36800828, 0.2069918 , 0.19057861, 0.52349601, 0.36244532],\n",
       "       [0.66267509, 0.21782935, 0.25313092, 0.8661489 , 0.779064  ]])"
      ]
     },
     "execution_count": 61,
     "metadata": {},
     "output_type": "execute_result"
    }
   ],
   "source": [
    "scaled_data2= scaler.fit_transform(daily_sales[['sales' ,'SMA_20', 'EMA_20', 'RSI', 'MACD']])\n",
    "scaled_data2\n"
   ]
  },
  {
   "cell_type": "code",
   "execution_count": 62,
   "id": "n7qwu3oIuW8r",
   "metadata": {
    "colab": {
     "base_uri": "https://localhost:8080/"
    },
    "id": "n7qwu3oIuW8r",
    "outputId": "240d6c41-bf92-40f2-85a1-000cf1ba061f"
   },
   "outputs": [
    {
     "data": {
      "text/plain": [
       "(1063, 5)"
      ]
     },
     "execution_count": 62,
     "metadata": {},
     "output_type": "execute_result"
    }
   ],
   "source": [
    "scaled_data2.shape\n"
   ]
  },
  {
   "cell_type": "code",
   "execution_count": 63,
   "id": "Qi-ux5qBudTg",
   "metadata": {
    "id": "Qi-ux5qBudTg"
   },
   "outputs": [],
   "source": [
    "# Set sequence length and create train/test sets\n",
    "seq_length = 1\n"
   ]
  },
  {
   "cell_type": "code",
   "execution_count": 64,
   "id": "AGyw0dNqugqt",
   "metadata": {
    "id": "AGyw0dNqugqt"
   },
   "outputs": [],
   "source": [
    "\n",
    "def create_sequences(data, seq_length):\n",
    "    X=[]\n",
    "    y=[]\n",
    "\n",
    "    for i in range(len(data) - seq_length):\n",
    "        X.append(data[i:(i + seq_length), :])\n",
    "        y.append(data[i + seq_length, 0])\n",
    "\n",
    "    return np.array(X), np.array(y)\n"
   ]
  },
  {
   "cell_type": "code",
   "execution_count": 65,
   "id": "lX7V71mOugtv",
   "metadata": {
    "id": "lX7V71mOugtv"
   },
   "outputs": [],
   "source": [
    "X, y = create_sequences(scaled_data2, seq_length)\n"
   ]
  },
  {
   "cell_type": "code",
   "execution_count": 66,
   "id": "MZg4eYe0ug2q",
   "metadata": {
    "colab": {
     "base_uri": "https://localhost:8080/"
    },
    "id": "MZg4eYe0ug2q",
    "outputId": "649588eb-7cf9-4e38-cb3a-1504f8447c40"
   },
   "outputs": [
    {
     "data": {
      "text/plain": [
       "1062"
      ]
     },
     "execution_count": 66,
     "metadata": {},
     "output_type": "execute_result"
    }
   ],
   "source": [
    "len(X)\n"
   ]
  },
  {
   "cell_type": "code",
   "execution_count": 67,
   "id": "ju4SVNP6ug5z",
   "metadata": {
    "colab": {
     "base_uri": "https://localhost:8080/"
    },
    "id": "ju4SVNP6ug5z",
    "outputId": "2eb1acd6-f8c1-4bdd-9a9e-a4bca4f975db"
   },
   "outputs": [
    {
     "data": {
      "text/plain": [
       "(1062, 1, 5)"
      ]
     },
     "execution_count": 67,
     "metadata": {},
     "output_type": "execute_result"
    }
   ],
   "source": [
    "X.shape\n"
   ]
  },
  {
   "cell_type": "code",
   "execution_count": 68,
   "id": "yRsA_aobuhBy",
   "metadata": {
    "colab": {
     "base_uri": "https://localhost:8080/"
    },
    "id": "yRsA_aobuhBy",
    "outputId": "e2ef7a8c-c2c5-4402-8dd3-6def1901906c"
   },
   "outputs": [
    {
     "data": {
      "text/plain": [
       "(1062,)"
      ]
     },
     "execution_count": 68,
     "metadata": {},
     "output_type": "execute_result"
    }
   ],
   "source": [
    "y.shape\n"
   ]
  },
  {
   "cell_type": "code",
   "execution_count": 69,
   "id": "NCxi5aPZuhHt",
   "metadata": {
    "colab": {
     "base_uri": "https://localhost:8080/"
    },
    "id": "NCxi5aPZuhHt",
    "outputId": "8138f385-106b-4041-99b3-0316dfa7199a"
   },
   "outputs": [
    {
     "data": {
      "text/plain": [
       "849"
      ]
     },
     "execution_count": 69,
     "metadata": {},
     "output_type": "execute_result"
    }
   ],
   "source": [
    "train_size = int(len(X) * 0.8)\n",
    "train_size\n"
   ]
  },
  {
   "cell_type": "code",
   "execution_count": 70,
   "id": "X-VjqPUWvYBP",
   "metadata": {
    "id": "X-VjqPUWvYBP"
   },
   "outputs": [],
   "source": [
    "X_train, X_test = X[:train_size], X[train_size:]\n",
    "y_train, y_test = y[:train_size], y[train_size:]\n"
   ]
  },
  {
   "cell_type": "code",
   "execution_count": 71,
   "id": "D8iT6q4qvYEG",
   "metadata": {
    "colab": {
     "base_uri": "https://localhost:8080/"
    },
    "id": "D8iT6q4qvYEG",
    "outputId": "de827fd2-3bbb-40cd-b56b-57ba651b79e6"
   },
   "outputs": [
    {
     "data": {
      "text/plain": [
       "(849, 1, 5)"
      ]
     },
     "execution_count": 71,
     "metadata": {},
     "output_type": "execute_result"
    }
   ],
   "source": [
    "X_train.shape\n"
   ]
  },
  {
   "cell_type": "code",
   "execution_count": 72,
   "id": "coNywbKjvYHH",
   "metadata": {
    "colab": {
     "base_uri": "https://localhost:8080/"
    },
    "id": "coNywbKjvYHH",
    "outputId": "3f374abc-ca52-49ae-822d-d4c026be803a"
   },
   "outputs": [
    {
     "data": {
      "text/plain": [
       "(213, 1, 5)"
      ]
     },
     "execution_count": 72,
     "metadata": {},
     "output_type": "execute_result"
    }
   ],
   "source": [
    "X_test.shape\n"
   ]
  },
  {
   "cell_type": "code",
   "execution_count": 73,
   "id": "CSX32Gvcvwe7",
   "metadata": {
    "colab": {
     "base_uri": "https://localhost:8080/"
    },
    "id": "CSX32Gvcvwe7",
    "outputId": "7946594e-88b4-4f07-84ff-8ea04c00c5af"
   },
   "outputs": [
    {
     "data": {
      "text/plain": [
       "5"
      ]
     },
     "execution_count": 73,
     "metadata": {},
     "output_type": "execute_result"
    }
   ],
   "source": [
    "X_train.shape[2]\n"
   ]
  },
  {
   "cell_type": "code",
   "execution_count": 74,
   "id": "EHvtV5mrvYJU",
   "metadata": {
    "colab": {
     "base_uri": "https://localhost:8080/"
    },
    "id": "EHvtV5mrvYJU",
    "outputId": "8997abc4-0bca-4944-8a95-c076e5d81c8e"
   },
   "outputs": [
    {
     "data": {
      "text/plain": [
       "(849,)"
      ]
     },
     "execution_count": 74,
     "metadata": {},
     "output_type": "execute_result"
    }
   ],
   "source": [
    "y_train.shape\n"
   ]
  },
  {
   "cell_type": "code",
   "execution_count": 75,
   "id": "044X-OgmveqR",
   "metadata": {
    "colab": {
     "base_uri": "https://localhost:8080/"
    },
    "id": "044X-OgmveqR",
    "outputId": "a75e0221-3b41-4d48-d682-ef416ea50aad"
   },
   "outputs": [
    {
     "data": {
      "text/plain": [
       "(213,)"
      ]
     },
     "execution_count": 75,
     "metadata": {},
     "output_type": "execute_result"
    }
   ],
   "source": [
    "y_test.shape\n"
   ]
  },
  {
   "cell_type": "code",
   "execution_count": 76,
   "id": "bffee8fe",
   "metadata": {},
   "outputs": [],
   "source": [
    "#I use 1 day long time series cause it has better performance than other options that I have tried."
   ]
  },
  {
   "cell_type": "code",
   "execution_count": 77,
   "id": "Qy5ujeNhu1Dc",
   "metadata": {
    "colab": {
     "base_uri": "https://localhost:8080/"
    },
    "id": "Qy5ujeNhu1Dc",
    "outputId": "114a6092-3c8b-4135-a7b8-104273755b33"
   },
   "outputs": [
    {
     "name": "stderr",
     "output_type": "stream",
     "text": [
      "C:\\Users\\TR\\anaconda3\\lib\\site-packages\\keras\\src\\layers\\rnn\\rnn.py:204: UserWarning: Do not pass an `input_shape`/`input_dim` argument to a layer. When using Sequential models, prefer using an `Input(shape)` object as the first layer in the model instead.\n",
      "  super().__init__(**kwargs)\n"
     ]
    },
    {
     "data": {
      "text/plain": [
       "<keras.src.callbacks.history.History at 0x1f8fff829b0>"
      ]
     },
     "execution_count": 77,
     "metadata": {},
     "output_type": "execute_result"
    }
   ],
   "source": [
    "from tensorflow.keras.models import Sequential\n",
    "from tensorflow.keras.layers import LSTM, Dropout, Dense\n",
    "from tensorflow.keras.optimizers import Adam\n",
    "import tensorflow as tf\n",
    "import numpy as np\n",
    "np.random.seed(12345)\n",
    "tf.keras.utils.set_random_seed(12345)\n",
    "\n",
    "model2 = Sequential()\n",
    "model2.add(LSTM(512, input_shape=(seq_length, X_train.shape[2]), return_sequences=True))\n",
    "model2.add (Dropout (0.1))\n",
    "\n",
    "# Second LSTM layer\n",
    "model2.add(LSTM(512, return_sequences=False))\n",
    "model2.add (Dropout (0.1))\n",
    "\n",
    "# Dense layers\n",
    "model2.add(Dense(64, activation='relu'))\n",
    "model2.add(Dense(1, activation='linear'))\n",
    "\n",
    "# Compile the model\n",
    "optimizer = Adam()\n",
    "model2.compile(loss='mse',\n",
    "              optimizer='adam')\n",
    "\n",
    "\n",
    "history2 = model2.fit(X_train, y_train, epochs=200, batch_size=256, verbose=0)\n",
    "history2\n"
   ]
  },
  {
   "cell_type": "code",
   "execution_count": 78,
   "id": "gpk2q8hOu1F0",
   "metadata": {
    "colab": {
     "base_uri": "https://localhost:8080/"
    },
    "id": "gpk2q8hOu1F0",
    "outputId": "a76b4224-41a9-455e-9020-efbf24f76121"
   },
   "outputs": [
    {
     "name": "stdout",
     "output_type": "stream",
     "text": [
      "\u001b[1m7/7\u001b[0m \u001b[32m━━━━━━━━━━━━━━━━━━━━\u001b[0m\u001b[37m\u001b[0m \u001b[1m0s\u001b[0m 32ms/step\n"
     ]
    },
    {
     "data": {
      "text/plain": [
       "array([[0.6334408 ],\n",
       "       [0.6469635 ],\n",
       "       [0.85071784],\n",
       "       [0.9216758 ],\n",
       "       [0.5040186 ],\n",
       "       [0.4803324 ],\n",
       "       [0.5580617 ],\n",
       "       [0.6172133 ],\n",
       "       [0.7943607 ],\n",
       "       [0.9074018 ],\n",
       "       [0.8798868 ],\n",
       "       [0.5185886 ],\n",
       "       [0.5031763 ],\n",
       "       [0.5517543 ],\n",
       "       [0.6791657 ],\n",
       "       [0.79865974],\n",
       "       [0.9573982 ],\n",
       "       [0.90257514],\n",
       "       [0.5351935 ],\n",
       "       [0.50013626],\n",
       "       [0.5919759 ],\n",
       "       [0.70973146],\n",
       "       [0.70128316],\n",
       "       [0.96425414],\n",
       "       [0.9604218 ],\n",
       "       [0.5752014 ],\n",
       "       [0.51928484],\n",
       "       [0.58676213],\n",
       "       [0.6865298 ],\n",
       "       [0.7528562 ],\n",
       "       [0.9390238 ],\n",
       "       [0.7452045 ],\n",
       "       [0.54273045],\n",
       "       [0.524262  ],\n",
       "       [0.645308  ],\n",
       "       [0.5840265 ],\n",
       "       [0.81719035],\n",
       "       [0.9729721 ],\n",
       "       [0.94362646],\n",
       "       [0.5524656 ],\n",
       "       [0.5312224 ],\n",
       "       [0.592996  ],\n",
       "       [0.6575536 ],\n",
       "       [0.7092672 ],\n",
       "       [0.91909266],\n",
       "       [0.99576116],\n",
       "       [0.5903207 ],\n",
       "       [0.53068244],\n",
       "       [0.572208  ],\n",
       "       [0.6705149 ],\n",
       "       [0.7517776 ],\n",
       "       [0.90071   ],\n",
       "       [0.8638153 ],\n",
       "       [0.54601425],\n",
       "       [0.51875526],\n",
       "       [0.5836887 ],\n",
       "       [0.56975025],\n",
       "       [0.803953  ],\n",
       "       [0.90889156],\n",
       "       [0.83708316],\n",
       "       [0.55180234],\n",
       "       [0.5136447 ],\n",
       "       [0.56167006],\n",
       "       [0.56347984],\n",
       "       [0.71612483],\n",
       "       [0.9333126 ],\n",
       "       [0.8179099 ],\n",
       "       [0.5176479 ],\n",
       "       [0.47148517],\n",
       "       [0.5370484 ],\n",
       "       [0.5886334 ],\n",
       "       [0.6557237 ],\n",
       "       [0.8078783 ],\n",
       "       [0.9167608 ],\n",
       "       [0.47941658],\n",
       "       [0.46595344],\n",
       "       [0.48557416],\n",
       "       [0.5267826 ],\n",
       "       [0.6991518 ],\n",
       "       [0.7332636 ],\n",
       "       [0.852401  ],\n",
       "       [0.44046387],\n",
       "       [0.43317756],\n",
       "       [0.45673338],\n",
       "       [0.5286339 ],\n",
       "       [0.5868599 ],\n",
       "       [0.8290635 ],\n",
       "       [0.6277272 ],\n",
       "       [0.41645885],\n",
       "       [0.42063066],\n",
       "       [0.450834  ],\n",
       "       [0.4949712 ],\n",
       "       [0.5580539 ],\n",
       "       [0.7861199 ],\n",
       "       [0.7373609 ],\n",
       "       [0.4357717 ],\n",
       "       [0.4129633 ],\n",
       "       [0.4714324 ],\n",
       "       [0.48610395],\n",
       "       [0.49894908],\n",
       "       [0.7073251 ],\n",
       "       [0.86119443],\n",
       "       [0.39421192],\n",
       "       [0.38297144],\n",
       "       [0.42454645],\n",
       "       [0.4102358 ],\n",
       "       [0.5584925 ],\n",
       "       [0.71344787],\n",
       "       [0.72596294],\n",
       "       [0.38800249],\n",
       "       [0.34496447],\n",
       "       [0.40664586],\n",
       "       [0.36956778],\n",
       "       [0.5305577 ],\n",
       "       [0.69950706],\n",
       "       [0.7024532 ],\n",
       "       [0.33961174],\n",
       "       [0.31795046],\n",
       "       [0.36940524],\n",
       "       [0.36094233],\n",
       "       [0.46943137],\n",
       "       [0.7446119 ],\n",
       "       [0.6247743 ],\n",
       "       [0.3035752 ],\n",
       "       [0.31426367],\n",
       "       [0.3192852 ],\n",
       "       [0.42223573],\n",
       "       [0.42050627],\n",
       "       [0.6506751 ],\n",
       "       [0.65432495],\n",
       "       [0.29766998],\n",
       "       [0.20092408],\n",
       "       [0.36505073],\n",
       "       [0.36868885],\n",
       "       [0.39114177],\n",
       "       [0.6290027 ],\n",
       "       [0.69824415],\n",
       "       [0.27940074],\n",
       "       [0.2851675 ],\n",
       "       [0.30042148],\n",
       "       [0.38977197],\n",
       "       [0.39197686],\n",
       "       [0.63080615],\n",
       "       [0.6683369 ],\n",
       "       [0.2659327 ],\n",
       "       [0.17034362],\n",
       "       [0.30002454],\n",
       "       [0.39025816],\n",
       "       [0.44099998],\n",
       "       [0.60711837],\n",
       "       [0.5626512 ],\n",
       "       [0.23203926],\n",
       "       [0.18683405],\n",
       "       [0.24967186],\n",
       "       [0.314988  ],\n",
       "       [0.47363827],\n",
       "       [0.62001   ],\n",
       "       [0.61846536],\n",
       "       [0.23771013],\n",
       "       [0.23636277],\n",
       "       [0.22905426],\n",
       "       [0.25795612],\n",
       "       [0.38009942],\n",
       "       [0.8161506 ],\n",
       "       [0.3480623 ],\n",
       "       [0.20754167],\n",
       "       [0.22463474],\n",
       "       [0.22178012],\n",
       "       [0.33048984],\n",
       "       [0.3483117 ],\n",
       "       [0.5036365 ],\n",
       "       [0.66701233],\n",
       "       [0.19611867],\n",
       "       [0.14989412],\n",
       "       [0.20716323],\n",
       "       [0.3124502 ],\n",
       "       [0.4129244 ],\n",
       "       [0.6973898 ],\n",
       "       [0.1782289 ],\n",
       "       [0.17444827],\n",
       "       [0.14249724],\n",
       "       [0.17548284],\n",
       "       [0.24896678],\n",
       "       [0.3693516 ],\n",
       "       [0.7192431 ],\n",
       "       [0.62586397],\n",
       "       [0.17880051],\n",
       "       [0.06900135],\n",
       "       [0.2272984 ],\n",
       "       [0.25998336],\n",
       "       [0.34386656],\n",
       "       [0.52198094],\n",
       "       [0.5197101 ],\n",
       "       [0.18359639],\n",
       "       [0.11217096],\n",
       "       [0.20413195],\n",
       "       [0.2730899 ],\n",
       "       [0.36563513],\n",
       "       [0.5559307 ],\n",
       "       [0.4839214 ],\n",
       "       [0.14065577],\n",
       "       [0.09642226],\n",
       "       [0.18718706],\n",
       "       [0.25278312],\n",
       "       [0.34373987],\n",
       "       [0.5402687 ],\n",
       "       [0.6492854 ],\n",
       "       [0.13209935],\n",
       "       [0.02734883],\n",
       "       [0.15055776],\n",
       "       [0.32655498],\n",
       "       [0.3639545 ],\n",
       "       [0.5085738 ]], dtype=float32)"
      ]
     },
     "execution_count": 78,
     "metadata": {},
     "output_type": "execute_result"
    }
   ],
   "source": [
    "test_predictions2 = model2.predict(X_test)\n",
    "test_predictions2\n"
   ]
  },
  {
   "cell_type": "code",
   "execution_count": 79,
   "id": "bhsFxzL-wHEz",
   "metadata": {
    "colab": {
     "base_uri": "https://localhost:8080/"
    },
    "id": "bhsFxzL-wHEz",
    "outputId": "228791f1-64d8-4157-a7d6-14fe2aece8d2"
   },
   "outputs": [
    {
     "data": {
      "text/plain": [
       "213"
      ]
     },
     "execution_count": 79,
     "metadata": {},
     "output_type": "execute_result"
    }
   ],
   "source": [
    "len(test_predictions2)\n"
   ]
  },
  {
   "cell_type": "code",
   "execution_count": 80,
   "id": "TPo0eWf7wHHV",
   "metadata": {
    "colab": {
     "base_uri": "https://localhost:8080/"
    },
    "id": "TPo0eWf7wHHV",
    "outputId": "4688de5d-2396-404b-9592-a054e6f81a54"
   },
   "outputs": [
    {
     "data": {
      "text/plain": [
       "(213, 1)"
      ]
     },
     "execution_count": 80,
     "metadata": {},
     "output_type": "execute_result"
    }
   ],
   "source": [
    "test_predictions2.shape\n"
   ]
  },
  {
   "cell_type": "code",
   "execution_count": 81,
   "id": "fimX0iUxwHJ3",
   "metadata": {
    "colab": {
     "base_uri": "https://localhost:8080/"
    },
    "id": "fimX0iUxwHJ3",
    "outputId": "c0c7d405-2b78-404a-daa8-e9a5ab1c4557"
   },
   "outputs": [
    {
     "data": {
      "text/plain": [
       "array([ 7988.03889659,  8126.70172125, 10216.01732241, 10943.62661712,\n",
       "        6660.93213484,  6418.05170438,  7215.09509157,  7821.64081775,\n",
       "        9638.12608226, 10797.25972496, 10515.11849865,  6810.33420345,\n",
       "        6652.29477809,  7150.41820729,  8456.90642743,  9682.2088726 ,\n",
       "       11309.92706452, 10747.76666842,  6980.60234618,  6621.12218352,\n",
       "        7562.85443691,  8770.33026275,  8683.70060605, 11380.22874319,\n",
       "       11340.93158145,  7390.84684348,  6817.4735301 ,  7509.39169228,\n",
       "        8532.41851271,  9212.53518031, 11121.51448294,  9134.07409656,\n",
       "        7057.8868865 ,  6868.5098449 ,  8109.72649153,  7481.34045216,\n",
       "        9872.22338682, 11469.62342975, 11168.71068222,  7157.71216536,\n",
       "        6939.88233089,  7573.31436639,  8235.29392943,  8765.569693  ,\n",
       "       10917.13880457, 11703.30451297,  7545.88165196,  6934.34554807,\n",
       "        7360.15220058,  8368.19994238,  9201.47506088, 10728.64126738,\n",
       "       10350.31990768,  7091.55925386,  6812.04309458,  7477.87621935,\n",
       "        7334.95033472,  9736.48633535, 10812.53584261, 10076.20606912,\n",
       "        7150.91082755,  6759.63893344,  7252.09539606,  7270.65300029,\n",
       "        8835.88848502, 11062.95134614,  9879.60168931,  6800.6883809 ,\n",
       "        6327.33134369,  6999.6226223 ,  7528.58004603,  8216.52974251,\n",
       "        9776.73695566, 10893.22777494,  6408.66074864,  6270.60850418,\n",
       "        6471.80109777,  6894.35590648,  8661.84562425,  9011.63106906,\n",
       "       10233.27675613,  6009.23617256,  5934.52169204,  6176.06514133,\n",
       "        6913.33951112,  7510.39404617,  9993.97148972,  7929.45131214,\n",
       "        5763.08647935,  5805.86468166,  6115.57247331,  6568.15908786,\n",
       "        7215.0150255 ,  9553.6239828 ,  9053.64497653,  5961.1222694 ,\n",
       "        5727.24285457,  6326.79013371,  6477.23367246,  6608.94877897,\n",
       "        8745.65524387, 10323.44521099,  5534.96448743,  5419.70356997,\n",
       "        5846.01751134,  5699.27473648,  7219.51217176,  8808.43865723,\n",
       "        8936.76929141,  5471.29240179,  5029.97676771,  5662.46329013,\n",
       "        5282.26129452,  6933.06632448,  8665.48832495,  8695.69829307,\n",
       "        4975.08933594,  4752.97260505,  5280.59457559,  5193.815177  ,\n",
       "        6306.2715219 ,  9127.99763174,  7899.1716682 ,  4605.56729871,\n",
       "        4715.16797269,  4766.65931948,  5822.32314905,  5804.58912522,\n",
       "        8164.76122042,  8202.18691411,  4545.01473394,  3552.9736363 ,\n",
       "        5235.94307167,  5273.24866625,  5503.48293562,  7942.53019673,\n",
       "        8652.53840174,  4357.68029397,  4416.81306114,  4573.22885657,\n",
       "        5489.43684064,  5512.04603262,  7961.02301468,  8345.86700892,\n",
       "        4219.57793181,  3239.39883671,  4569.1586275 ,  5494.42232883,\n",
       "        6014.73353354,  7718.12638765,  7262.15621756,  3872.03143388,\n",
       "        3408.49318638,  4052.83773859,  4722.59517049,  6349.40941034,\n",
       "        7850.31852905,  7834.47950413,  3930.18109969,  3916.36511828,\n",
       "        3841.42296897,  4137.78524378,  5390.25361835,  9861.56176418,\n",
       "        5061.74221792,  3620.8310078 ,  3796.10480803,  3766.83332429,\n",
       "        4881.55260532,  5064.2994427 ,  6657.01378682,  8332.28450261,\n",
       "        3503.6984695 ,  3029.70777961,  3616.95040085,  4696.57247459,\n",
       "        5726.84405219,  8643.77758433,  3320.25517952,  3281.48822632,\n",
       "        2953.85953906,  3292.09682811,  4045.60780282,  5280.04450334,\n",
       "        8867.86357389,  7910.34546923,  3326.11650497,  2200.22609688,\n",
       "        3823.41818735,  4158.57277981,  5018.71862227,  6845.11955033,\n",
       "        6821.83438068,  3375.29388116,  2642.89108876,  3585.86734583,\n",
       "        4292.96826618,  5241.93549767,  7193.24316574,  6454.85367726,\n",
       "        2934.97693381,  2481.40255757,  3412.11296739,  4084.74085966,\n",
       "        5017.41953496,  7032.64407082,  8150.51068193,  2847.23857592,\n",
       "        1773.1173775 ,  3036.51278457,  4841.20419439,  5224.70234518,\n",
       "        6707.64121458])"
      ]
     },
     "execution_count": 81,
     "metadata": {},
     "output_type": "execute_result"
    }
   ],
   "source": [
    "test_predictions2 = scaler.inverse_transform(np.concatenate((test_predictions2,\n",
    "                                                            np.zeros((len(test_predictions2), X_train.shape[2]-1))),\n",
    "                                                           axis=1))[:, 0]\n",
    "test_predictions2\n"
   ]
  },
  {
   "cell_type": "code",
   "execution_count": 82,
   "id": "ON5ZegpHwHWT",
   "metadata": {
    "colab": {
     "base_uri": "https://localhost:8080/"
    },
    "id": "ON5ZegpHwHWT",
    "outputId": "456abb32-76fa-409e-96bc-a801a358312b"
   },
   "outputs": [
    {
     "data": {
      "text/plain": [
       "array([0.56463031, 0.74055328, 0.91512167, 0.92875916, 0.48238313,\n",
       "       0.53695647, 0.53737289, 0.66575581, 0.8039397 , 0.93002597,\n",
       "       0.95025595, 0.51693714, 0.47404499, 0.57122182, 0.66252393,\n",
       "       0.84099223, 0.97362808, 0.96687566, 0.4128811 , 0.5116729 ,\n",
       "       0.58753532, 0.566453  , 0.79376522, 0.90273832, 0.92979972,\n",
       "       0.5020309 , 0.53497775, 0.60512049, 0.65395857, 0.85796497,\n",
       "       0.92996161, 0.90703612, 0.49067738, 0.63300498, 0.50074848,\n",
       "       0.67676898, 0.84930403, 1.        , 0.94478886, 0.51507057,\n",
       "       0.52955162, 0.56312652, 0.57467216, 0.75400157, 0.91884897,\n",
       "       0.96490083, 0.5148648 , 0.49545011, 0.58305613, 0.6388407 ,\n",
       "       0.79714143, 0.93014202, 0.93503958, 0.47353983, 0.54207443,\n",
       "       0.49269804, 0.66705968, 0.79806009, 0.86878504, 0.89867945,\n",
       "       0.48146154, 0.46754319, 0.46424305, 0.57315666, 0.79905287,\n",
       "       0.86255338, 0.901295  , 0.390216  , 0.44075681, 0.49733814,\n",
       "       0.53989969, 0.68852136, 0.91302202, 0.76230753, 0.44455334,\n",
       "       0.38986395, 0.43887268, 0.57700488, 0.64289274, 0.89444797,\n",
       "       0.80039379, 0.39966589, 0.38139513, 0.45873988, 0.48733432,\n",
       "       0.73755838, 0.83386629, 0.80032748, 0.45579471, 0.44346597,\n",
       "       0.41417425, 0.46129886, 0.6678223 , 0.73750182, 0.78208403,\n",
       "       0.38935976, 0.4848992 , 0.41661912, 0.41524211, 0.58900692,\n",
       "       0.85709897, 0.77305153, 0.335629  , 0.3582512 , 0.33308368,\n",
       "       0.43549062, 0.59158931, 0.70567939, 0.8106775 , 0.29231848,\n",
       "       0.37467976, 0.27763653, 0.41336579, 0.59384792, 0.75922778,\n",
       "       0.70071649, 0.26755763, 0.29137349, 0.28119414, 0.35337509,\n",
       "       0.62447375, 0.74720916, 0.66161502, 0.32527704, 0.22817237,\n",
       "       0.35144221, 0.33024774, 0.55013463, 0.66596938, 0.71837481,\n",
       "       0.1853397 , 0.36901861, 0.32315301, 0.31287516, 0.52416353,\n",
       "       0.71441249, 0.63086827, 0.27298181, 0.21716603, 0.3173641 ,\n",
       "       0.2929475 , 0.50918414, 0.66935242, 0.68105312, 0.16709625,\n",
       "       0.19265581, 0.29955462, 0.34040856, 0.52673909, 0.66589039,\n",
       "       0.70714612, 0.20413123, 0.12591756, 0.21025269, 0.33602299,\n",
       "       0.49910328, 0.62328495, 0.63503148, 0.21967235, 0.1011372 ,\n",
       "       0.14885377, 0.23086885, 0.68160315, 0.60699974, 0.51024616,\n",
       "       0.20601633, 0.10626979, 0.23337322, 0.231965  , 0.37406537,\n",
       "       0.62543141, 0.60191494, 0.15417068, 0.10556471, 0.22293738,\n",
       "       0.31129432, 0.67289833, 0.68886171, 0.50194508, 0.14948669,\n",
       "       0.05093967, 0.12514324, 0.18911576, 0.52609349, 0.62661533,\n",
       "       0.56119266, 0.07854134, 0.16488348, 0.16988148, 0.23107462,\n",
       "       0.40897535, 0.50301002, 0.54747033, 0.11207528, 0.102759  ,\n",
       "       0.1838915 , 0.24334193, 0.4494314 , 0.50993408, 0.62184358,\n",
       "       0.12390373, 0.12034808, 0.17641643, 0.23039587, 0.43225971,\n",
       "       0.70638545, 0.5521192 , 0.05217625, 0.0365737 , 0.18859011,\n",
       "       0.21676326, 0.36800828, 0.66267509])"
      ]
     },
     "execution_count": 82,
     "metadata": {},
     "output_type": "execute_result"
    }
   ],
   "source": [
    "y_test\n"
   ]
  },
  {
   "cell_type": "code",
   "execution_count": 83,
   "id": "r83jZ-J7wHZD",
   "metadata": {
    "colab": {
     "base_uri": "https://localhost:8080/"
    },
    "id": "r83jZ-J7wHZD",
    "outputId": "e7da37d4-c1e5-4f32-cf54-20c7f2dc789b"
   },
   "outputs": [
    {
     "data": {
      "text/plain": [
       "array([[0.56463031],\n",
       "       [0.74055328],\n",
       "       [0.91512167],\n",
       "       [0.92875916],\n",
       "       [0.48238313],\n",
       "       [0.53695647],\n",
       "       [0.53737289],\n",
       "       [0.66575581],\n",
       "       [0.8039397 ],\n",
       "       [0.93002597],\n",
       "       [0.95025595],\n",
       "       [0.51693714],\n",
       "       [0.47404499],\n",
       "       [0.57122182],\n",
       "       [0.66252393],\n",
       "       [0.84099223],\n",
       "       [0.97362808],\n",
       "       [0.96687566],\n",
       "       [0.4128811 ],\n",
       "       [0.5116729 ],\n",
       "       [0.58753532],\n",
       "       [0.566453  ],\n",
       "       [0.79376522],\n",
       "       [0.90273832],\n",
       "       [0.92979972],\n",
       "       [0.5020309 ],\n",
       "       [0.53497775],\n",
       "       [0.60512049],\n",
       "       [0.65395857],\n",
       "       [0.85796497],\n",
       "       [0.92996161],\n",
       "       [0.90703612],\n",
       "       [0.49067738],\n",
       "       [0.63300498],\n",
       "       [0.50074848],\n",
       "       [0.67676898],\n",
       "       [0.84930403],\n",
       "       [1.        ],\n",
       "       [0.94478886],\n",
       "       [0.51507057],\n",
       "       [0.52955162],\n",
       "       [0.56312652],\n",
       "       [0.57467216],\n",
       "       [0.75400157],\n",
       "       [0.91884897],\n",
       "       [0.96490083],\n",
       "       [0.5148648 ],\n",
       "       [0.49545011],\n",
       "       [0.58305613],\n",
       "       [0.6388407 ],\n",
       "       [0.79714143],\n",
       "       [0.93014202],\n",
       "       [0.93503958],\n",
       "       [0.47353983],\n",
       "       [0.54207443],\n",
       "       [0.49269804],\n",
       "       [0.66705968],\n",
       "       [0.79806009],\n",
       "       [0.86878504],\n",
       "       [0.89867945],\n",
       "       [0.48146154],\n",
       "       [0.46754319],\n",
       "       [0.46424305],\n",
       "       [0.57315666],\n",
       "       [0.79905287],\n",
       "       [0.86255338],\n",
       "       [0.901295  ],\n",
       "       [0.390216  ],\n",
       "       [0.44075681],\n",
       "       [0.49733814],\n",
       "       [0.53989969],\n",
       "       [0.68852136],\n",
       "       [0.91302202],\n",
       "       [0.76230753],\n",
       "       [0.44455334],\n",
       "       [0.38986395],\n",
       "       [0.43887268],\n",
       "       [0.57700488],\n",
       "       [0.64289274],\n",
       "       [0.89444797],\n",
       "       [0.80039379],\n",
       "       [0.39966589],\n",
       "       [0.38139513],\n",
       "       [0.45873988],\n",
       "       [0.48733432],\n",
       "       [0.73755838],\n",
       "       [0.83386629],\n",
       "       [0.80032748],\n",
       "       [0.45579471],\n",
       "       [0.44346597],\n",
       "       [0.41417425],\n",
       "       [0.46129886],\n",
       "       [0.6678223 ],\n",
       "       [0.73750182],\n",
       "       [0.78208403],\n",
       "       [0.38935976],\n",
       "       [0.4848992 ],\n",
       "       [0.41661912],\n",
       "       [0.41524211],\n",
       "       [0.58900692],\n",
       "       [0.85709897],\n",
       "       [0.77305153],\n",
       "       [0.335629  ],\n",
       "       [0.3582512 ],\n",
       "       [0.33308368],\n",
       "       [0.43549062],\n",
       "       [0.59158931],\n",
       "       [0.70567939],\n",
       "       [0.8106775 ],\n",
       "       [0.29231848],\n",
       "       [0.37467976],\n",
       "       [0.27763653],\n",
       "       [0.41336579],\n",
       "       [0.59384792],\n",
       "       [0.75922778],\n",
       "       [0.70071649],\n",
       "       [0.26755763],\n",
       "       [0.29137349],\n",
       "       [0.28119414],\n",
       "       [0.35337509],\n",
       "       [0.62447375],\n",
       "       [0.74720916],\n",
       "       [0.66161502],\n",
       "       [0.32527704],\n",
       "       [0.22817237],\n",
       "       [0.35144221],\n",
       "       [0.33024774],\n",
       "       [0.55013463],\n",
       "       [0.66596938],\n",
       "       [0.71837481],\n",
       "       [0.1853397 ],\n",
       "       [0.36901861],\n",
       "       [0.32315301],\n",
       "       [0.31287516],\n",
       "       [0.52416353],\n",
       "       [0.71441249],\n",
       "       [0.63086827],\n",
       "       [0.27298181],\n",
       "       [0.21716603],\n",
       "       [0.3173641 ],\n",
       "       [0.2929475 ],\n",
       "       [0.50918414],\n",
       "       [0.66935242],\n",
       "       [0.68105312],\n",
       "       [0.16709625],\n",
       "       [0.19265581],\n",
       "       [0.29955462],\n",
       "       [0.34040856],\n",
       "       [0.52673909],\n",
       "       [0.66589039],\n",
       "       [0.70714612],\n",
       "       [0.20413123],\n",
       "       [0.12591756],\n",
       "       [0.21025269],\n",
       "       [0.33602299],\n",
       "       [0.49910328],\n",
       "       [0.62328495],\n",
       "       [0.63503148],\n",
       "       [0.21967235],\n",
       "       [0.1011372 ],\n",
       "       [0.14885377],\n",
       "       [0.23086885],\n",
       "       [0.68160315],\n",
       "       [0.60699974],\n",
       "       [0.51024616],\n",
       "       [0.20601633],\n",
       "       [0.10626979],\n",
       "       [0.23337322],\n",
       "       [0.231965  ],\n",
       "       [0.37406537],\n",
       "       [0.62543141],\n",
       "       [0.60191494],\n",
       "       [0.15417068],\n",
       "       [0.10556471],\n",
       "       [0.22293738],\n",
       "       [0.31129432],\n",
       "       [0.67289833],\n",
       "       [0.68886171],\n",
       "       [0.50194508],\n",
       "       [0.14948669],\n",
       "       [0.05093967],\n",
       "       [0.12514324],\n",
       "       [0.18911576],\n",
       "       [0.52609349],\n",
       "       [0.62661533],\n",
       "       [0.56119266],\n",
       "       [0.07854134],\n",
       "       [0.16488348],\n",
       "       [0.16988148],\n",
       "       [0.23107462],\n",
       "       [0.40897535],\n",
       "       [0.50301002],\n",
       "       [0.54747033],\n",
       "       [0.11207528],\n",
       "       [0.102759  ],\n",
       "       [0.1838915 ],\n",
       "       [0.24334193],\n",
       "       [0.4494314 ],\n",
       "       [0.50993408],\n",
       "       [0.62184358],\n",
       "       [0.12390373],\n",
       "       [0.12034808],\n",
       "       [0.17641643],\n",
       "       [0.23039587],\n",
       "       [0.43225971],\n",
       "       [0.70638545],\n",
       "       [0.5521192 ],\n",
       "       [0.05217625],\n",
       "       [0.0365737 ],\n",
       "       [0.18859011],\n",
       "       [0.21676326],\n",
       "       [0.36800828],\n",
       "       [0.66267509]])"
      ]
     },
     "execution_count": 83,
     "metadata": {},
     "output_type": "execute_result"
    }
   ],
   "source": [
    "y_test.reshape(-1, 1)\n"
   ]
  },
  {
   "cell_type": "code",
   "execution_count": 84,
   "id": "NrFA2HhvwHmB",
   "metadata": {
    "colab": {
     "base_uri": "https://localhost:8080/"
    },
    "id": "NrFA2HhvwHmB",
    "outputId": "61cab504-8cea-4f08-a97d-02a9a2156b13"
   },
   "outputs": [
    {
     "data": {
      "text/plain": [
       "array([ 7282.45,  9086.38, 10876.42, 11016.26,  6439.08,  6998.68,\n",
       "        7002.95,  8319.4 ,  9736.35, 11029.25, 11236.69,  6793.4 ,\n",
       "        6353.58,  7350.04,  8286.26, 10116.29, 11476.35, 11407.11,\n",
       "        5726.4 ,  6739.42,  7517.32,  7301.14,  9632.02, 10749.44,\n",
       "       11026.93,  6640.55,  6978.39,  7697.64,  8198.43, 10290.33,\n",
       "       11028.59, 10793.51,  6524.13,  7983.57,  6627.4 ,  8432.33,\n",
       "       10201.52, 11746.77, 11180.63,  6774.26,  6922.75,  7267.03,\n",
       "        7385.42,  9224.28, 10914.64, 11386.86,  6772.15,  6573.07,\n",
       "        7471.39,  8043.41,  9666.64, 11030.44, 11080.66,  6348.4 ,\n",
       "        7051.16,  6544.85,  8332.77,  9676.06, 10401.28, 10707.82,\n",
       "        6429.63,  6286.91,  6253.07,  7369.88,  9686.24, 10337.38,\n",
       "       10734.64,  5493.99,  6012.24,  6592.43,  7028.86,  8552.84,\n",
       "       10854.89,  9309.45,  6051.17,  5490.38,  5992.92,  7409.34,\n",
       "        8084.96, 10664.43,  9699.99,  5590.89,  5403.54,  6196.64,\n",
       "        6489.85,  9055.67, 10043.22,  9699.31,  6166.44,  6040.02,\n",
       "        5739.66,  6222.88,  8340.59,  9055.09,  9512.24,  5485.21,\n",
       "        6464.88,  5764.73,  5750.61,  7532.41, 10281.45,  9419.62,\n",
       "        4934.25,  5166.22,  4908.15,  5958.24,  7558.89,  8728.78,\n",
       "        9805.44,  4490.14,  5334.68,  4339.59,  5731.37,  7582.05,\n",
       "        9277.87,  8677.89,  4236.24,  4480.45,  4376.07,  5116.22,\n",
       "        7896.09,  9154.63,  8276.94,  4828.1 ,  3832.38,  5096.4 ,\n",
       "        4879.07,  7133.81,  8321.59,  8858.96,  3393.17,  5276.63,\n",
       "        4806.32,  4700.93,  6867.5 ,  8818.33,  7961.66,  4291.86,\n",
       "        3719.52,  4746.96,  4496.59,  6713.9 ,  8356.28,  8476.26,\n",
       "        3206.1 ,  3468.19,  4564.34,  4983.26,  6893.91,  8320.78,\n",
       "        8743.82,  3585.86,  2783.85,  3648.63,  4938.29,  6610.53,\n",
       "        7883.9 ,  8004.35,  3745.22,  2529.75,  3019.04,  3860.03,\n",
       "        8481.9 ,  7716.91,  6724.79,  3605.19,  2582.38,  3885.71,\n",
       "        3871.27,  5328.38,  7905.91,  7664.77,  3073.56,  2575.15,\n",
       "        3778.7 ,  4684.72,  8392.64,  8556.33,  6639.67,  3025.53,\n",
       "        2015.02,  2775.91,  3431.89,  6887.29,  7918.05,  7247.2 ,\n",
       "        2298.05,  3183.41,  3234.66,  3862.14,  5686.35,  6650.59,\n",
       "        7106.49,  2641.91,  2546.38,  3378.32,  3987.93,  6101.19,\n",
       "        6721.59,  7869.12,  2763.2 ,  2726.74,  3301.67,  3855.18,\n",
       "        5925.11,  8736.02,  7154.16,  2027.7 ,  1867.71,  3426.5 ,\n",
       "        3715.39,  5266.27,  8287.81])"
      ]
     },
     "execution_count": 84,
     "metadata": {},
     "output_type": "execute_result"
    }
   ],
   "source": [
    "y_test_inv2 = scaler.inverse_transform(np.concatenate((y_test.reshape(-1, 1),\n",
    "                                                      np.zeros((len(y_test), X_train.shape[2]-1))),\n",
    "                                                     axis=1))[:, 0]\n",
    "y_test_inv2\n"
   ]
  },
  {
   "cell_type": "code",
   "execution_count": 85,
   "id": "hz1bWKbZwi7I",
   "metadata": {
    "colab": {
     "base_uri": "https://localhost:8080/"
    },
    "id": "hz1bWKbZwi7I",
    "outputId": "c781fd25-99fd-4719-9847-81d36d693772"
   },
   "outputs": [
    {
     "data": {
      "text/plain": [
       "DatetimeIndex(['2021-06-02', '2021-06-03', '2021-06-04', '2021-06-05',\n",
       "               '2021-06-06', '2021-06-07', '2021-06-08', '2021-06-09',\n",
       "               '2021-06-10', '2021-06-11',\n",
       "               ...\n",
       "               '2021-12-22', '2021-12-23', '2021-12-24', '2021-12-25',\n",
       "               '2021-12-26', '2021-12-27', '2021-12-28', '2021-12-29',\n",
       "               '2021-12-30', '2021-12-31'],\n",
       "              dtype='datetime64[ns]', name='date', length=213, freq=None)"
      ]
     },
     "execution_count": 85,
     "metadata": {},
     "output_type": "execute_result"
    }
   ],
   "source": [
    "test_dates=daily_sales.index[-len(y_test_inv2):]\n",
    "test_dates\n"
   ]
  },
  {
   "cell_type": "code",
   "execution_count": 86,
   "id": "M1ZBXPkLwi9Z",
   "metadata": {
    "colab": {
     "base_uri": "https://localhost:8080/"
    },
    "id": "M1ZBXPkLwi9Z",
    "outputId": "3625ccfb-f492-4522-c034-dd3ce4f808e1"
   },
   "outputs": [
    {
     "data": {
      "text/plain": [
       "213"
      ]
     },
     "execution_count": 86,
     "metadata": {},
     "output_type": "execute_result"
    }
   ],
   "source": [
    "len(test_dates)\n"
   ]
  },
  {
   "cell_type": "code",
   "execution_count": 87,
   "id": "_mabQh5VwjAA",
   "metadata": {
    "colab": {
     "base_uri": "https://localhost:8080/"
    },
    "id": "_mabQh5VwjAA",
    "outputId": "41de506f-43e3-4a57-c8ed-8c612eb261b5"
   },
   "outputs": [
    {
     "data": {
      "text/plain": [
       "213"
      ]
     },
     "execution_count": 87,
     "metadata": {},
     "output_type": "execute_result"
    }
   ],
   "source": [
    "len(y_test_inv2)\n"
   ]
  },
  {
   "cell_type": "code",
   "execution_count": 88,
   "id": "OxWF9OgEwjCN",
   "metadata": {
    "colab": {
     "base_uri": "https://localhost:8080/"
    },
    "id": "OxWF9OgEwjCN",
    "outputId": "1377a5fb-21b3-4b6e-cfa5-e4bb65791053"
   },
   "outputs": [
    {
     "data": {
      "text/plain": [
       "213"
      ]
     },
     "execution_count": 88,
     "metadata": {},
     "output_type": "execute_result"
    }
   ],
   "source": [
    "len(test_predictions2)\n"
   ]
  },
  {
   "cell_type": "code",
   "execution_count": 89,
   "id": "03Jk4ZKzwjEI",
   "metadata": {
    "id": "03Jk4ZKzwjEI"
   },
   "outputs": [],
   "source": [
    "#to make sure that all length are equal\n",
    "assert len(test_dates) == len(y_test_inv2) == len(test_predictions2), \"Length of variables do not match.\"\n"
   ]
  },
  {
   "cell_type": "code",
   "execution_count": 90,
   "id": "IXxb4222wjHN",
   "metadata": {
    "colab": {
     "base_uri": "https://localhost:8080/"
    },
    "id": "IXxb4222wjHN",
    "outputId": "598a55b2-1670-4bfc-96ea-c0c586bf66f2"
   },
   "outputs": [
    {
     "name": "stdout",
     "output_type": "stream",
     "text": [
      "The MAE for the model is 638.4087575713278\n",
      "The MAPE for the model is 0.10801709680149686\n"
     ]
    }
   ],
   "source": [
    "#Check MAE value\n",
    "performance_MAE2 = mean_absolute_error(y_test_inv2, test_predictions2)\n",
    "print(f'The MAE for the model is {performance_MAE2}')\n",
    "\n",
    "#Check MAPE value\n",
    "performance_MAPE2 = mean_absolute_percentage_error(y_test_inv2, test_predictions2)\n",
    "print(f'The MAPE for the model is {performance_MAPE2}')\n"
   ]
  },
  {
   "cell_type": "code",
   "execution_count": 91,
   "id": "JkMxb9pzxEW4",
   "metadata": {
    "colab": {
     "base_uri": "https://localhost:8080/"
    },
    "id": "JkMxb9pzxEW4",
    "outputId": "e3281dd2-c86e-49e9-a082-cf72308e0bda"
   },
   "outputs": [
    {
     "data": {
      "text/plain": [
       "0.8919829031985032"
      ]
     },
     "execution_count": 91,
     "metadata": {},
     "output_type": "execute_result"
    }
   ],
   "source": [
    "1 - performance_MAPE2\n"
   ]
  },
  {
   "cell_type": "code",
   "execution_count": 92,
   "id": "d64d455f",
   "metadata": {},
   "outputs": [],
   "source": [
    "#the sales forecast model performance improved by the help of technical indicators.\n",
    "#I will use daily, weekly, yearly trends and holiday effects at part 3 for Prophet model\n"
   ]
  },
  {
   "cell_type": "code",
   "execution_count": 93,
   "id": "z8CuIomfwjJq",
   "metadata": {
    "colab": {
     "base_uri": "https://localhost:8080/",
     "height": 564
    },
    "id": "z8CuIomfwjJq",
    "outputId": "ffd0a799-0c47-40de-f0cb-a2103b805682"
   },
   "outputs": [
    {
     "data": {
      "image/png": "[encoded data removed]",
      "text/plain": [
       "<Figure size 1000x600 with 1 Axes>"
      ]
     },
     "metadata": {},
     "output_type": "display_data"
    }
   ],
   "source": [
    "plt.figure(figsize=(10, 6))\n",
    "plt.plot(test_dates, y_test_inv2, label='Actual Price', color='blue')\n",
    "plt.plot(test_dates, test_predictions2, label='Predicted Price', color='red')\n",
    "plt.title('Sales Prediction')\n",
    "plt.xlabel('Date')\n",
    "plt.ylabel('Sales')\n",
    "plt.legend()\n",
    "plt.show()\n"
   ]
  },
  {
   "cell_type": "code",
   "execution_count": 94,
   "id": "RgWf_y72u1IZ",
   "metadata": {
    "colab": {
     "base_uri": "https://localhost:8080/"
    },
    "id": "RgWf_y72u1IZ",
    "outputId": "4425c6f0-1b65-48fa-d0dd-f62bed7ee236"
   },
   "outputs": [
    {
     "name": "stderr",
     "output_type": "stream",
     "text": [
      "WARNING:absl:You are saving your model as an HDF5 file via `model.save()` or `keras.saving.save_model(model)`. This file format is considered legacy. We recommend using instead the native Keras format, e.g. `model.save('my_model.keras')` or `keras.saving.save_model(model, 'my_model.keras')`. \n"
     ]
    }
   ],
   "source": [
    "model2.save('sales_rnn_lstm.h5')\n"
   ]
  },
  {
   "cell_type": "code",
   "execution_count": 95,
   "id": "ZiwTvMHTu1T3",
   "metadata": {
    "id": "ZiwTvMHTu1T3"
   },
   "outputs": [],
   "source": [
    "#future prediction\n"
   ]
  },
  {
   "cell_type": "code",
   "execution_count": 96,
   "id": "0Y2Mjw8iu1We",
   "metadata": {
    "colab": {
     "base_uri": "https://localhost:8080/",
     "height": 455
    },
    "id": "0Y2Mjw8iu1We",
    "outputId": "5aaeee13-a3f8-4005-f830-200e756105de"
   },
   "outputs": [
    {
     "data": {
      "text/html": [
       "<div>\n",
       "<style scoped>\n",
       "    .dataframe tbody tr th:only-of-type {\n",
       "        vertical-align: middle;\n",
       "    }\n",
       "\n",
       "    .dataframe tbody tr th {\n",
       "        vertical-align: top;\n",
       "    }\n",
       "\n",
       "    .dataframe thead th {\n",
       "        text-align: right;\n",
       "    }\n",
       "</style>\n",
       "<table border=\"1\" class=\"dataframe\">\n",
       "  <thead>\n",
       "    <tr style=\"text-align: right;\">\n",
       "      <th></th>\n",
       "      <th>sales</th>\n",
       "      <th>SMA_20</th>\n",
       "      <th>EMA_20</th>\n",
       "      <th>RSI</th>\n",
       "      <th>MACD</th>\n",
       "    </tr>\n",
       "    <tr>\n",
       "      <th>date</th>\n",
       "      <th></th>\n",
       "      <th></th>\n",
       "      <th></th>\n",
       "      <th></th>\n",
       "      <th></th>\n",
       "    </tr>\n",
       "  </thead>\n",
       "  <tbody>\n",
       "    <tr>\n",
       "      <th>2019-02-03</th>\n",
       "      <td>2247.87</td>\n",
       "      <td>3830.3080</td>\n",
       "      <td>3834.825647</td>\n",
       "      <td>45.135366</td>\n",
       "      <td>14.490420</td>\n",
       "    </tr>\n",
       "    <tr>\n",
       "      <th>2019-02-04</th>\n",
       "      <td>1725.79</td>\n",
       "      <td>3799.8715</td>\n",
       "      <td>3633.965109</td>\n",
       "      <td>43.708277</td>\n",
       "      <td>-134.614358</td>\n",
       "    </tr>\n",
       "    <tr>\n",
       "      <th>2019-02-05</th>\n",
       "      <td>2733.73</td>\n",
       "      <td>3793.8970</td>\n",
       "      <td>3548.228432</td>\n",
       "      <td>47.180522</td>\n",
       "      <td>-157.244344</td>\n",
       "    </tr>\n",
       "    <tr>\n",
       "      <th>2019-02-06</th>\n",
       "      <td>3841.29</td>\n",
       "      <td>3744.9520</td>\n",
       "      <td>3576.139058</td>\n",
       "      <td>50.773711</td>\n",
       "      <td>-92.700170</td>\n",
       "    </tr>\n",
       "    <tr>\n",
       "      <th>2019-02-07</th>\n",
       "      <td>4539.81</td>\n",
       "      <td>3677.3720</td>\n",
       "      <td>3667.917243</td>\n",
       "      <td>52.947727</td>\n",
       "      <td>-2.793129</td>\n",
       "    </tr>\n",
       "    <tr>\n",
       "      <th>...</th>\n",
       "      <td>...</td>\n",
       "      <td>...</td>\n",
       "      <td>...</td>\n",
       "      <td>...</td>\n",
       "      <td>...</td>\n",
       "    </tr>\n",
       "    <tr>\n",
       "      <th>2021-12-27</th>\n",
       "      <td>1867.71</td>\n",
       "      <td>4745.4750</td>\n",
       "      <td>4637.880237</td>\n",
       "      <td>43.570573</td>\n",
       "      <td>-178.180217</td>\n",
       "    </tr>\n",
       "    <tr>\n",
       "      <th>2021-12-28</th>\n",
       "      <td>3426.50</td>\n",
       "      <td>4723.6930</td>\n",
       "      <td>4522.510691</td>\n",
       "      <td>47.287813</td>\n",
       "      <td>-198.783604</td>\n",
       "    </tr>\n",
       "    <tr>\n",
       "      <th>2021-12-29</th>\n",
       "      <td>3715.39</td>\n",
       "      <td>4625.1450</td>\n",
       "      <td>4445.642053</td>\n",
       "      <td>47.971855</td>\n",
       "      <td>-182.155365</td>\n",
       "    </tr>\n",
       "    <tr>\n",
       "      <th>2021-12-30</th>\n",
       "      <td>5266.27</td>\n",
       "      <td>4555.9290</td>\n",
       "      <td>4523.797096</td>\n",
       "      <td>51.602821</td>\n",
       "      <td>-62.110322</td>\n",
       "    </tr>\n",
       "    <tr>\n",
       "      <th>2021-12-31</th>\n",
       "      <td>8287.81</td>\n",
       "      <td>4614.9950</td>\n",
       "      <td>4882.274515</td>\n",
       "      <td>57.784304</td>\n",
       "      <td>210.457058</td>\n",
       "    </tr>\n",
       "  </tbody>\n",
       "</table>\n",
       "<p>1063 rows × 5 columns</p>\n",
       "</div>"
      ],
      "text/plain": [
       "              sales     SMA_20       EMA_20        RSI        MACD\n",
       "date                                                              \n",
       "2019-02-03  2247.87  3830.3080  3834.825647  45.135366   14.490420\n",
       "2019-02-04  1725.79  3799.8715  3633.965109  43.708277 -134.614358\n",
       "2019-02-05  2733.73  3793.8970  3548.228432  47.180522 -157.244344\n",
       "2019-02-06  3841.29  3744.9520  3576.139058  50.773711  -92.700170\n",
       "2019-02-07  4539.81  3677.3720  3667.917243  52.947727   -2.793129\n",
       "...             ...        ...          ...        ...         ...\n",
       "2021-12-27  1867.71  4745.4750  4637.880237  43.570573 -178.180217\n",
       "2021-12-28  3426.50  4723.6930  4522.510691  47.287813 -198.783604\n",
       "2021-12-29  3715.39  4625.1450  4445.642053  47.971855 -182.155365\n",
       "2021-12-30  5266.27  4555.9290  4523.797096  51.602821  -62.110322\n",
       "2021-12-31  8287.81  4614.9950  4882.274515  57.784304  210.457058\n",
       "\n",
       "[1063 rows x 5 columns]"
      ]
     },
     "execution_count": 96,
     "metadata": {},
     "output_type": "execute_result"
    }
   ],
   "source": [
    "daily_sales\n"
   ]
  },
  {
   "cell_type": "code",
   "execution_count": 97,
   "id": "tscHGu_Tu1d3",
   "metadata": {
    "colab": {
     "base_uri": "https://localhost:8080/"
    },
    "id": "tscHGu_Tu1d3",
    "outputId": "4d2a3896-6e23-4427-99b1-289f49519599"
   },
   "outputs": [
    {
     "data": {
      "text/plain": [
       "array([[0.07364769, 0.07385342, 0.07035694, 0.16499104, 0.4795294 ],\n",
       "       [0.02273337, 0.06826887, 0.03530789, 0.08588448, 0.25162305],\n",
       "       [0.12102975, 0.06717266, 0.02034732, 0.27835844, 0.21703317],\n",
       "       ...,\n",
       "       [0.21676326, 0.21969169, 0.17694099, 0.32222373, 0.17895672],\n",
       "       [0.36800828, 0.2069918 , 0.19057861, 0.52349601, 0.36244532],\n",
       "       [0.66267509, 0.21782935, 0.25313092, 0.8661489 , 0.779064  ]])"
      ]
     },
     "execution_count": 97,
     "metadata": {},
     "output_type": "execute_result"
    }
   ],
   "source": [
    "scaler = MinMaxScaler()\n",
    "seq_length=1\n",
    "scaled_data= scaler.fit_transform(daily_sales[['sales' ,'SMA_20', 'EMA_20', 'RSI', 'MACD']])\n",
    "scaled_data\n"
   ]
  },
  {
   "cell_type": "code",
   "execution_count": 98,
   "id": "RoFOjzko1NOs",
   "metadata": {
    "colab": {
     "base_uri": "https://localhost:8080/"
    },
    "id": "RoFOjzko1NOs",
    "outputId": "00cccacd-eb28-496d-efea-b378ec3fe914"
   },
   "outputs": [
    {
     "data": {
      "text/plain": [
       "array([[0.66267509, 0.21782935, 0.25313092, 0.8661489 , 0.779064  ]])"
      ]
     },
     "execution_count": 98,
     "metadata": {},
     "output_type": "execute_result"
    }
   ],
   "source": [
    "scaled_data[-1:]\n"
   ]
  },
  {
   "cell_type": "code",
   "execution_count": 99,
   "id": "IvtJSOpN1NRR",
   "metadata": {
    "colab": {
     "base_uri": "https://localhost:8080/"
    },
    "id": "IvtJSOpN1NRR",
    "outputId": "6b684a97-5dc2-48cb-ce9e-9ab2dca7f35d"
   },
   "outputs": [
    {
     "data": {
      "text/plain": [
       "array([[[0.66267509, 0.21782935, 0.25313092, 0.8661489 , 0.779064  ]]])"
      ]
     },
     "execution_count": 99,
     "metadata": {},
     "output_type": "execute_result"
    }
   ],
   "source": [
    "#we need the last data because our model is working with 1 day long time series.\n",
    "last_data = scaled_data[-seq_length:].reshape(1, seq_length, 5)\n",
    "last_data\n"
   ]
  },
  {
   "cell_type": "code",
   "execution_count": 100,
   "id": "EhiKOZZi1NTs",
   "metadata": {
    "colab": {
     "base_uri": "https://localhost:8080/"
    },
    "id": "EhiKOZZi1NTs",
    "outputId": "9a2513bc-4f75-4fcb-e6d8-1a8fa2ea332d"
   },
   "outputs": [
    {
     "name": "stdout",
     "output_type": "stream",
     "text": [
      "\u001b[1m1/1\u001b[0m \u001b[32m━━━━━━━━━━━━━━━━━━━━\u001b[0m\u001b[37m\u001b[0m \u001b[1m0s\u001b[0m 18ms/step\n",
      "The next day sales forecast: 8466.057796141506\n"
     ]
    }
   ],
   "source": [
    "# predict the next day\n",
    "prediction = model2.predict(last_data)\n",
    "\n",
    "#Inverse transform the prediction\n",
    "prediction_scaled = scaler.inverse_transform(np.concatenate((prediction,\n",
    "                                                             np.zeros((prediction.shape[0], 4))),\n",
    "                                                            axis=1))[:, 0]\n",
    "#print the next day sales forecast?\n",
    "print(f\"The next day sales forecast: {prediction_scaled[0]}\")\n"
   ]
  },
  {
   "cell_type": "code",
   "execution_count": null,
   "id": "gwp5DJFf2_3f",
   "metadata": {
    "id": "gwp5DJFf2_3f"
   },
   "outputs": [],
   "source": []
  }
 ],
 "metadata": {
  "accelerator": "GPU",
  "colab": {
   "gpuType": "A100",
   "machine_shape": "hm",
   "provenance": []
  },
  "kernelspec": {
   "display_name": "Python 3 (ipykernel)",
   "language": "python",
   "name": "python3"
  },
  "language_info": {
   "codemirror_mode": {
    "name": "ipython",
    "version": 3
   },
   "file_extension": ".py",
   "mimetype": "text/x-python",
   "name": "python",
   "nbconvert_exporter": "python",
   "pygments_lexer": "ipython3",
   "version": "3.10.11"
  }
 },
 "nbformat": 4,
 "nbformat_minor": 5
}
